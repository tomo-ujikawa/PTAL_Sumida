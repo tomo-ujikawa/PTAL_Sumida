{
 "cells": [
  {
   "cell_type": "code",
   "execution_count": null,
   "id": "a6e225a6",
   "metadata": {},
   "outputs": [],
   "source": [
    "text_総武線各停_三鷹 = clean_raw_timetable_text(\"\"\"\n",
    "\"\"\")"
   ]
  },
  {
   "cell_type": "code",
   "execution_count": null,
   "id": "28207c03",
   "metadata": {},
   "outputs": [],
   "source": [
    "text_伊勢崎線区間急行_浅草 = clean_raw_timetable_text(\"\"\"\n",
    "\"\"\")"
   ]
  },
  {
   "cell_type": "code",
   "execution_count": null,
   "id": "87861863",
   "metadata": {},
   "outputs": [],
   "source": [
    "text_半蔵門線_渋谷 = clean_raw_timetable_text(\"\"\"\n",
    "\"\"\")"
   ]
  },
  {
   "cell_type": "code",
   "execution_count": null,
   "id": "efb0c511",
   "metadata": {},
   "outputs": [],
   "source": [
    "text_新宿線_新宿 = clean_raw_timetable_text(\"\"\"\n",
    "\"\"\")"
   ]
  },
  {
   "cell_type": "code",
   "execution_count": null,
   "id": "d56e1366",
   "metadata": {},
   "outputs": [],
   "source": [
    "text_大江戸線_両国_春日 = clean_raw_timetable_text(\"\"\"\n",
    "\"\"\")"
   ]
  },
  {
   "cell_type": "code",
   "execution_count": null,
   "id": "5130ab8d",
   "metadata": {},
   "outputs": [],
   "source": [
    "text_浅草線快特停車駅_押上 = clean_raw_timetable_text(\"\"\"\n",
    "\"\"\")"
   ]
  },
  {
   "cell_type": "code",
   "execution_count": null,
   "id": "6b333791",
   "metadata": {},
   "outputs": [],
   "source": [
    "text_浅草線各停駅_押上 = clean_raw_timetable_text(\"\"\"\n",
    "\"\"\")"
   ]
  },
  {
   "cell_type": "code",
   "execution_count": null,
   "id": "e4cdf3e3",
   "metadata": {},
   "outputs": [],
   "source": [
    "text_亀戸線_曳舟 = clean_raw_timetable_text(\"\"\"\n",
    "\"\"\")"
   ]
  },
  {
   "cell_type": "code",
   "execution_count": null,
   "id": "1afd13a9",
   "metadata": {},
   "outputs": [],
   "source": [
    "text_押上線_西馬込 = clean_raw_timetable_text(\"\"\"\n",
    "\"\"\")"
   ]
  },
  {
   "cell_type": "code",
   "execution_count": null,
   "id": "3b537702",
   "metadata": {},
   "outputs": [],
   "source": [
    "text_京成本線_京成上野 = clean_raw_timetable_text(\"\"\"\n",
    "\"\"\")"
   ]
  },
  {
   "cell_type": "code",
   "execution_count": null,
   "id": "b9480511",
   "metadata": {},
   "outputs": [],
   "source": [
    "text_総武快速線_千葉 = clean_raw_timetable_text(\"\"\"\n",
    "\"\"\")"
   ]
  },
  {
   "cell_type": "code",
   "execution_count": null,
   "id": "2c6d4179",
   "metadata": {},
   "outputs": [],
   "source": [
    "text_伊勢崎線急行_曳舟 = clean_raw_timetable_text(\"\"\"\n",
    "\"\"\")"
   ]
  },
  {
   "cell_type": "code",
   "execution_count": null,
   "id": "1d66c0b5",
   "metadata": {},
   "outputs": [],
   "source": [
    "text_伊勢崎線準急_浅草 = clean_raw_timetable_text(\"\"\"\n",
    "\"\"\")"
   ]
  },
  {
   "cell_type": "code",
   "execution_count": null,
   "id": "cdc0e2c7",
   "metadata": {},
   "outputs": [],
   "source": [
    "text_日比谷線_北千住 = clean_raw_timetable_text(\"\"\"\n",
    "\"\"\")"
   ]
  },
  {
   "cell_type": "code",
   "execution_count": null,
   "id": "044aa4fd",
   "metadata": {},
   "outputs": [],
   "source": [
    "text_銀座線_浅草 = clean_raw_timetable_text(\"\"\"\n",
    "\"\"\")"
   ]
  },
  {
   "cell_type": "code",
   "execution_count": null,
   "id": "ee0f4ba8",
   "metadata": {},
   "outputs": [],
   "source": [
    "text_常磐新線_つくば = clean_raw_timetable_text(\"\"\"\n",
    "\"\"\")"
   ]
  },
  {
   "cell_type": "code",
   "execution_count": null,
   "id": "df8e9f0c",
   "metadata": {},
   "outputs": [],
   "source": [
    "all_data_train = {\n",
    "    (\"総武線（各停）\", \"錦糸町\"): {\n",
    "        \"三鷹\": text_総武線各停_三鷹,\n",
    "    },\n",
    "    (\"伊勢崎線（区間急行）\", \"鐘ヶ淵\"): {\n",
    "        \"浅草\": text_伊勢崎線区間急行_浅草,\n",
    "    },\n",
    "    (\"半蔵門線\", \"錦糸町\"): {\n",
    "        \"渋谷\": text_半蔵門線_渋谷,\n",
    "    },\n",
    "    (\"新宿線\", \"菊川\"): {\n",
    "        \"新宿\": text_新宿線_新宿,\n",
    "    },\n",
    "    (\"大江戸線\", \"清澄白河\"): {\n",
    "        \"両国・春日\": text_大江戸線_両国_春日,\n",
    "    },\n",
    "    (\"浅草線（快特停車駅）\", \"浅草\"): {\n",
    "        \"押上\": text_浅草線快特停車駅_押上,\n",
    "    },\n",
    "    (\"浅草線（各停駅）\", \"蔵前\"): {\n",
    "        \"押上\": text_浅草線各停駅_押上,\n",
    "    },\n",
    "    (\"亀戸線\", \"東あずま\"): {\n",
    "        \"曳舟\": text_亀戸線_曳舟,\n",
    "    },\n",
    "    (\"押上線\", \"八広\"): {\n",
    "        \"西馬込\": text_押上線_西馬込,\n",
    "    },\n",
    "    (\"京成本線\", \"京成関屋\"): {\n",
    "        \"京成上野\": text_京成本線_京成上野,\n",
    "    },\n",
    "    (\"総武快速線\", \"錦糸町\"): {\n",
    "        \"千葉\": text_総武快速線_千葉,\n",
    "    },\n",
    "    (\"伊勢崎線（急行）\", \"押上\"): {\n",
    "        \"曳舟\": text_伊勢崎線急行_曳舟,\n",
    "    },\n",
    "    (\"伊勢崎線（準急）\", \"曳舟\"): {\n",
    "        \"浅草\": text_伊勢崎線準急_浅草,\n",
    "    },\n",
    "    (\"日比谷線\", \"人形町\"): {\n",
    "        \"北千住\": text_日比谷線_北千住,\n",
    "    },\n",
    "    (\"銀座線\", \"田原町\"): {\n",
    "        \"浅草\": text_銀座線_浅草,\n",
    "    },\n",
    "    (\"常磐新線\", \"浅草\"): {\n",
    "        \"つくば\": text_常磐新線_つくば,\n",
    "    },\n",
    "}"
   ]
  }
 ],
 "metadata": {},
 "nbformat": 4,
 "nbformat_minor": 5
}
