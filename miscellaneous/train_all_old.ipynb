{
 "cells": [
  {
   "cell_type": "code",
   "execution_count": 109,
   "id": "71deca30-28fc-4fdb-b358-aa7c023d8d0b",
   "metadata": {},
   "outputs": [],
   "source": [
    "from datetime import datetime, timedelta\n",
    "import re\n",
    "\n",
    "def parse_embedded_minute_timetable_text(text):\n",
    "    lines = text.strip().splitlines()\n",
    "    current_hour = None\n",
    "    times = []\n",
    "\n",
    "    for line in lines:\n",
    "        # 制御文字や中点・ゼロ幅スペースなどを除去\n",
    "        line = re.sub(r\"[・●•｡･　\\u200b\\u3000\\u2028\\u2029]\", \"\", line)\n",
    "        line = re.sub(r\"[^\\x20-\\x7E]\", \"\", line).strip()\n",
    "\n",
    "        # 行頭に時刻があれば更新\n",
    "        hour_match = re.match(r\"^(\\d{1,2})\", line)\n",
    "        if hour_match:\n",
    "            current_hour = hour_match.group(1).zfill(2)\n",
    "\n",
    "        # 行末の分を抽出（数字2桁が末尾）\n",
    "        minute_match = re.search(r\"(\\d{1,2})$\", line)\n",
    "        if minute_match and current_hour:\n",
    "            minute = minute_match.group(1).zfill(2)\n",
    "            try:\n",
    "                if current_hour == \"24\":\n",
    "                    dt = datetime.strptime(f\"00:{minute}\", \"%H:%M\") + timedelta(days=1)\n",
    "                else:\n",
    "                    dt = datetime.strptime(f\"{current_hour}:{minute}\", \"%H:%M\")\n",
    "                times.append(dt.time())\n",
    "            except ValueError:\n",
    "                continue\n",
    "\n",
    "    return times"
   ]
  },
  {
   "cell_type": "code",
   "execution_count": 110,
   "id": "a6e225a6",
   "metadata": {},
   "outputs": [],
   "source": [
    "text_総武線各停_三鷹 = clean_raw_timetable_text(\"\"\"\n",
    "04\t[普通]三 ",
    "55\n",
    "05\t[普通]三 ",
    "16\n",
    "\t\t[普通]三 ",
    "31\n",
    "\t\t[普通]三 ",
    "42\n",
    "\t\t[普通]三 ",
    "53\n",
    "06\t[普通]三 ",
    "03\n",
    "\t\t[普通]三 ",
    "12\n",
    "\t\t[普通]中 ",
    "19\n",
    "\t\t[普通]三 ",
    "27\n",
    "\t\t[普通]中 ",
    "34\n",
    "\t\t[普通]中 ",
    "40\n",
    "\t\t[普通]三 ",
    "45\n",
    "\t\t[普通]中 ",
    "51\n",
    "\t\t[普通]三 ",
    "55\n",
    "\t\t[普通]三 ",
    "59\n",
    "07\t[普通]三 ",
    "04\n",
    "\t\t[あず]松 ",
    "07\n",
    "\t\t[富回]河 ",
    "07\n",
    "\t\t[普通]三 ",
    "10\n",
    "\t\t[普通]三 ",
    "13\n",
    "\t\t[普通]中 ",
    "17\n",
    "\t\t[普通]三 ",
    "20\n",
    "\t\t[普通]三 ",
    "23\n",
    "\t\t[普通]三 ",
    "25\n",
    "\t\t[普通]三 ",
    "28\n",
    "\t\t[普通]三 ",
    "31\n",
    "\t\t[普通]中 ",
    "34\n",
    "\t\t[普通]三 ",
    "36\n",
    "\t\t[普通]中 ",
    "39\n",
    "\t\t[普通]三 ",
    "41\n",
    "\t\t[普通]中 ",
    "44\n",
    "\t\t[普通]三 ",
    "46\n",
    "\t\t[普通]三 ",
    "49\n",
    "\t\t[普通]中 ",
    "52\n",
    "\t\t[普通]三 ",
    "54\n",
    "\t\t[普通]三 ",
    "57\n",
    "\t\t[普通]三 ",
    "59\n",
    "08\t[普通]三 ",
    "02\n",
    "\t\t[普通]中 ",
    "04\n",
    "\t\t[普通]三 ",
    "07\n",
    "\t\t[普通]三 ",
    "09\n",
    "\t\t[普通]中 ",
    "12\n",
    "\t\t[普通]三 ",
    "14\n",
    "\t\t[普通]三 ",
    "17\n",
    "\t\t[普通]中 ",
    "19\n",
    "\t\t[普通]中 ",
    "22\n",
    "\t\t[普通]三 ",
    "24\n",
    "\t\t[普通]三 ",
    "27\n",
    "\t\t[普通]中 ",
    "29\n",
    "\t\t[普通]三 ",
    "32\n",
    "\t\t[普通]中 ",
    "34\n",
    "\t\t[普通]三 ",
    "37\n",
    "\t\t[普通]中 ",
    "40\n",
    "\t\t[普通]三 ",
    "44\n",
    "\t\t[普通]中 ",
    "47\n",
    "\t\t[普通]三 ",
    "51\n",
    "\t\t[普通]三 ",
    "55\n",
    "\t\t[普通]中 ",
    "59\n",
    "09\t[普通]三 ",
    "03\n",
    "\t\t[普通]中 ",
    "07\n",
    "\t\t[普通]三 ",
    "12\n",
    "\t\t[普通]三 ",
    "16\n",
    "\t\t[普通]中 ",
    "20\n",
    "\t\t[普通]三 ",
    "24\n",
    "\t\t[普通]中 ",
    "28\n",
    "\t\t[普通]三 ",
    "32\n",
    "\t\t[普通]三 ",
    "36\n",
    "\t\t[普通]中 ",
    "40\n",
    "\t\t[普通]中 ",
    "45\n",
    "\t\t[普通]三 ",
    "49\n",
    "\t\t[普通]三 ",
    "53\n",
    "\t\t[普通]中 ",
    "58\n",
    "10\t[普通]中 ",
    "03\n",
    "\t\t[普通]三 ",
    "08\n",
    "\t\t[普通]中 ",
    "14\n",
    "\t\t[普通]中 ",
    "20\n",
    "\t\t[普通]三 ",
    "26\n",
    "\t\t[普通]中 ",
    "32\n",
    "\t\t[普通]中 ",
    "39\n",
    "\t\t[普通]三 ",
    "44\n",
    "\t\t[普通]中 ",
    "48\n",
    "\t\t[普通]三 ",
    "53\n",
    "\t\t[普通]中 ",
    "57\n",
    "11\t[普通]中 ",
    "04\n",
    "\t\t[普通]三 ",
    "09\n",
    "\t\t[普通]中 ",
    "14\n",
    "\t\t[普通]中 ",
    "20\n",
    "\t\t[普通]三 ",
    "25\n",
    "\t\t[普通]中 ",
    "30\n",
    "\t\t[普通]中 ",
    "36\n",
    "\t\t[普通]三 ",
    "41\n",
    "\t\t[普通]中 ",
    "47\n",
    "\t\t[普通]三 ",
    "53\n",
    "\t\t[普通]中 ",
    "58\n",
    "12\t[普通]中 ",
    "04\n",
    "\t\t[普通]三 ",
    "09\n",
    "\t\t[普通]中 ",
    "15\n",
    "\t\t[普通]中 ",
    "20\n",
    "\t\t[普通]三 ",
    "26\n",
    "\t\t[普通]中 ",
    "31\n",
    "\t\t[普通]中 ",
    "37\n",
    "\t\t[普通]三 ",
    "42\n",
    "\t\t[普通]中 ",
    "48\n",
    "\t\t[普通]三 ",
    "53\n",
    "\t\t[普通]中 ",
    "59\n",
    "13\t[普通]中 ",
    "04\n",
    "\t\t[普通]三 ",
    "11\n",
    "\t\t[普通]中 ",
    "15\n",
    "\t\t[普通]中 ",
    "21\n",
    "\t\t[普通]三 ",
    "26\n",
    "\t\t[普通]中 ",
    "32\n",
    "\t\t[普通]中 ",
    "37\n",
    "\t\t[普通]三 ",
    "42\n",
    "\t\t[普通]中 ",
    "48\n",
    "\t\t[普通]三 ",
    "54\n",
    "\t\t[普通]中 ",
    "59\n",
    "14\t[普通]中 ",
    "05\n",
    "\t\t[普通]三 ",
    "10\n",
    "\t\t[普通]中 ",
    "16\n",
    "\t\t[普通]中 ",
    "21\n",
    "\t\t[普通]三 ",
    "26\n",
    "\t\t[普通]中 ",
    "32\n",
    "\t\t[普通]三 ",
    "38\n",
    "\t\t[普通]中 ",
    "43\n",
    "\t\t[普通]中 ",
    "48\n",
    "\t\t[普通]三 ",
    "54\n",
    "15\t[普通]中 ",
    "00\n",
    "\t\t[普通]中 ",
    "05\n",
    "\t\t[普通]三 ",
    "10\n",
    "\t\t[普通]中 ",
    "16\n",
    "\t\t[普通]中 ",
    "21\n",
    "\t\t[普通]三 ",
    "26\n",
    "\t\t[普通]中 ",
    "31\n",
    "\t\t[普通]三 ",
    "37\n",
    "\t\t[普通]中 ",
    "42\n",
    "\t\t[普通]三 ",
    "47\n",
    "\t\t[普通]中 ",
    "52\n",
    "\t\t[普通]三 ",
    "58\n",
    "16\t[普通]中 ",
    "03\n",
    "\t\t[普通]三 ",
    "09\n",
    "\t\t[普通]三 ",
    "15\n",
    "\t\t[普通]中 ",
    "20\n",
    "\t\t[普通]三 ",
    "26\n",
    "\t\t[普通]三 ",
    "32\n",
    "\t\t[普通]三 ",
    "37\n",
    "\t\t[普通]中 ",
    "43\n",
    "\t\t[普通]三 ",
    "47\n",
    "\t\t[普通]中 ",
    "52\n",
    "\t\t[普通]三 ",
    "56\n",
    "17\t[普通]三 ",
    "01\n",
    "\t\t[普通]中 ",
    "07\n",
    "\t\t[普通]三 ",
    "12\n",
    "\t\t[普通]三 ",
    "17\n",
    "\t\t[普通]中 ",
    "22\n",
    "\t\t[普通]三 ",
    "27\n",
    "\t\t[普通]中 ",
    "32\n",
    "\t\t[普通]三 ",
    "37\n",
    "\t\t[普通]三 ",
    "41\n",
    "\t\t[普通]中 ",
    "45\n",
    "\t\t[普通]三 ",
    "49\n",
    "\t\t[普通]三 ",
    "54\n",
    "\t\t[普通]中 ",
    "58\n",
    "18\t[普通]中 ",
    "02\n",
    "\t\t[普通]三 ",
    "06\n",
    "\t\t[普通]中 ",
    "10\n",
    "\t\t[普通]三 ",
    "13\n",
    "\t\t[普通]三 ",
    "17\n",
    "\t\t[普通]中 ",
    "21\n",
    "\t\t[普通]三 ",
    "25\n",
    "\t\t[普通]中 ",
    "30\n",
    "\t\t[普通]三 ",
    "34\n",
    "\t\t[普通]中 ",
    "39\n",
    "\t\t[普通]三 ",
    "44\n",
    "\t\t[普通]中 ",
    "48\n",
    "\t\t[普通]三 ",
    "52\n",
    "\t\t[普通]三 ",
    "56\n",
    "19\t[普通]三 ",
    "00\n",
    "\t\t[普通]中 ",
    "04\n",
    "\t\t[普通]三 ",
    "08\n",
    "\t\t[普通]三 ",
    "12\n",
    "\t\t[普通]中 ",
    "16\n",
    "\t\t[普通]三 ",
    "20\n",
    "\t\t[普通]中 ",
    "24\n",
    "\t\t[普通]三 ",
    "29\n",
    "\t\t[普通]中 ",
    "34\n",
    "\t\t[普通]三 ",
    "39\n",
    "\t\t[普通]三 ",
    "44\n",
    "\t\t[普通]三 ",
    "49\n",
    "\t\t[普通]中 ",
    "54\n",
    "\t\t[普通]三 ",
    "59\n",
    "20\t[普通]中 ",
    "04\n",
    "\t\t[普通]三 ",
    "09\n",
    "\t\t[普通]中 ",
    "13\n",
    "\t\t[普通]三 ",
    "17\n",
    "\t\t[普通]中 ",
    "21\n",
    "\t\t[普通]三 ",
    "26\n",
    "\t\t[普通]三 ",
    "30\n",
    "\t\t[普通]三 ",
    "34\n",
    "\t\t[普通]中 ",
    "39\n",
    "\t\t[普通]三 ",
    "44\n",
    "\t\t[普通]三 ",
    "49\n",
    "\t\t[普通]中 ",
    "54\n",
    "21\t[普通]三 ",
    "00\n",
    "\t\t[普通]中 ",
    "05\n",
    "\t\t[普通]三 ",
    "11\n",
    "\t\t[普通]中 ",
    "16\n",
    "\t\t[普通]三 ",
    "22\n",
    "\t\t[普通]中 ",
    "28\n",
    "\t\t[普通]三 ",
    "35\n",
    "\t\t[普通]三 ",
    "42\n",
    "\t\t[普通]三 ",
    "49\n",
    "\t\t[普通]中 ",
    "56\n",
    "22\t[普通]三 ",
    "03\n",
    "\t\t[普通]中 ",
    "09\n",
    "\t\t[普通]三 ",
    "16\n",
    "\t\t[普通]中 ",
    "23\n",
    "\t\t[普通]三 ",
    "29\n",
    "\t\t[普通]三 ",
    "36\n",
    "\t\t[普通]三 ",
    "43\n",
    "\t\t[普通]中 ",
    "49\n",
    "\t\t[普通]三 ",
    "56\n",
    "23\t[普通]中 ",
    "03\n",
    "\t\t[普通]三 ",
    "10\n",
    "\t\t[普通]中 ",
    "18\n",
    "\t\t[普通]三 ",
    "26\n",
    "\t\t[普通]三 ",
    "33\n",
    "\t\t[普通]三 ",
    "40\n",
    "\t\t[普通]三 ",
    "48\n",
    "\t\t[普通]中 ",
    "55\n",
    "00\t[普通]三 ",
    "02\n",
    "\t\t[普通]三 ",
    "09\n",
    "\t\t[普通]中 ",
    "19\n",
    "\t\t[普通]中 ",
    "27\"\"\")"
   ]
  },
  {
   "cell_type": "code",
   "execution_count": 111,
   "id": "54512b31-1bca-48af-b860-df3e68047de4",
   "metadata": {},
   "outputs": [],
   "source": [
    "text_総武線各停_千葉 = clean_raw_timetable_text(\"\"\"\n",
    "04\t[普通]千 ",
    "38\n",
    "05\t[普通]千 ",
    "01\n",
    "\t\t[普通]千 ",
    "27\n",
    "\t\t[普通]千 ",
    "37\n",
    "\t\t[普通]千 ",
    "45\n",
    "\t\t[普通]千 ",
    "56\n",
    "06\t[普通]千 ",
    "05\n",
    "\t\t[普通]千 ",
    "16\n",
    "\t\t[普通]千 ",
    "27\n",
    "\t\t[普通]千 ",
    "36\n",
    "\t\t[普通]千 ",
    "43\n",
    "\t\t[普通]千 ",
    "52\n",
    "07\t[普通]千 ",
    "00\n",
    "\t\t[普通]千 ",
    "07\n",
    "\t\t[普通]西 ",
    "12\n",
    "\t\t[普通]千 ",
    "17\n",
    "\t\t[普通]西 ",
    "21\n",
    "\t\t[普通]千 ",
    "25\n",
    "\t\t[普通]西 ",
    "28\n",
    "\t\t[普通]千 ",
    "31\n",
    "\t\t[普通]西 ",
    "36\n",
    "\t\t[普通]千 ",
    "39\n",
    "\t\t[普通]西 ",
    "43\n",
    "\t\t[普通]千 ",
    "47\n",
    "\t\t[普通]西 ",
    "51\n",
    "\t\t[普通]千 ",
    "55\n",
    "\t\t[普通]西 ",
    "59\n",
    "08\t[普通]千 ",
    "04\n",
    "\t\t[普通]西 ",
    "08\n",
    "\t\t[普通]千 ",
    "12\n",
    "\t\t[普通]西 ",
    "16\n",
    "\t\t[普通]千 ",
    "21\n",
    "\t\t[普通]西 ",
    "25\n",
    "\t\t[普通]千 ",
    "29\n",
    "\t\t[普通]西 ",
    "32\n",
    "\t\t[普通]津 ",
    "36\n",
    "\t\t[普通]千 ",
    "39\n",
    "\t\t[普通]西 ",
    "43\n",
    "\t\t[普通]津 ",
    "46\n",
    "\t\t[普通]千 ",
    "50\n",
    "\t\t[普通]西 ",
    "53\n",
    "\t\t[普通]千 ",
    "57\n",
    "09\t[普通]津 ",
    "00\n",
    "\t\t[普通]千 ",
    "03\n",
    "\t\t[普通]津 ",
    "06\n",
    "\t\t[普通]千 ",
    "09\n",
    "\t\t[普通]津 ",
    "12\n",
    "\t\t[普通]千 ",
    "16\n",
    "\t\t[普通]津 ",
    "19\n",
    "\t\t[普通]千 ",
    "22\n",
    "\t\t[普通]津 ",
    "27\n",
    "\t\t[普通]千 ",
    "31\n",
    "\t\t[普通]津 ",
    "35\n",
    "\t\t[普通]千 ",
    "40\n",
    "\t\t[普通]津 ",
    "44\n",
    "\t\t[普通]千 ",
    "49\n",
    "\t\t[普通]津 ",
    "54\n",
    "\t\t[普通]千 ",
    "58\n",
    "10\t[普通]津 ",
    "03\n",
    "\t\t[普通]千 ",
    "07\n",
    "\t\t[普通]津 ",
    "12\n",
    "\t\t[普通]千 ",
    "16\n",
    "\t\t[普通]津 ",
    "21\n",
    "\t\t[普通]千 ",
    "25\n",
    "\t\t[普通]津 ",
    "30\n",
    "\t\t[普通]千 ",
    "35\n",
    "\t\t[普通]津 ",
    "39\n",
    "\t\t[普通]千 ",
    "44\n",
    "\t\t[普通]津 ",
    "49\n",
    "\t\t[普通]千 ",
    "55\n",
    "11\t[普通]津 ",
    "00\n",
    "\t\t[普通]千 ",
    "06\n",
    "\t\t[普通]津 ",
    "12\n",
    "\t\t[普通]千 ",
    "17\n",
    "\t\t[普通]津 ",
    "23\n",
    "\t\t[普通]千 ",
    "28\n",
    "\t\t[普通]津 ",
    "34\n",
    "\t\t[普通]千 ",
    "39\n",
    "\t\t[普通]津 ",
    "45\n",
    "\t\t[普通]千 ",
    "50\n",
    "\t\t[普通]津 ",
    "56\n",
    "12\t[普通]千 ",
    "01\n",
    "\t\t[普通]津 ",
    "07\n",
    "\t\t[普通]千 ",
    "13\n",
    "\t\t[普通]津 ",
    "19\n",
    "\t\t[普通]千 ",
    "23\n",
    "\t\t[普通]津 ",
    "29\n",
    "\t\t[普通]千 ",
    "34\n",
    "\t\t[普通]津 ",
    "39\n",
    "\t\t[普通]千 ",
    "45\n",
    "\t\t[普通]津 ",
    "50\n",
    "\t\t[普通]千 ",
    "56\n",
    "13\t[普通]津 ",
    "01\n",
    "\t\t[普通]千 ",
    "07\n",
    "\t\t[普通]津 ",
    "12\n",
    "\t\t[普通]千 ",
    "18\n",
    "\t\t[普通]津 ",
    "23\n",
    "\t\t[普通]千 ",
    "29\n",
    "\t\t[普通]津 ",
    "34\n",
    "\t\t[普通]千 ",
    "40\n",
    "\t\t[普通]津 ",
    "45\n",
    "\t\t[普通]千 ",
    "51\n",
    "\t\t[普通]津 ",
    "56\n",
    "14\t[普通]千 ",
    "01\n",
    "\t\t[普通]津 ",
    "07\n",
    "\t\t[普通]千 ",
    "12\n",
    "\t\t[普通]津 ",
    "17\n",
    "\t\t[普通]千 ",
    "23\n",
    "\t\t[普通]津 ",
    "30\n",
    "\t\t[普通]千 ",
    "34\n",
    "\t\t[普通]津 ",
    "40\n",
    "\t\t[普通]千 ",
    "45\n",
    "\t\t[普通]津 ",
    "51\n",
    "\t\t[普通]千 ",
    "57\n",
    "15\t[普通]津 ",
    "02\n",
    "\t\t[普通]千 ",
    "08\n",
    "\t\t[普通]千 ",
    "14\n",
    "\t\t[普通]津 ",
    "21\n",
    "\t\t[普通]千 ",
    "26\n",
    "\t\t[普通]津 ",
    "31\n",
    "\t\t[普通]千 ",
    "37\n",
    "\t\t[普通]千 ",
    "42\n",
    "\t\t[普通]津 ",
    "47\n",
    "\t\t[普通]千 ",
    "52\n",
    "\t\t[普通]津 ",
    "57\n",
    "16\t[普通]千 ",
    "02\n",
    "\t\t[普通]津 ",
    "07\n",
    "\t\t[普通]千 ",
    "12\n",
    "\t\t[普通]津 ",
    "17\n",
    "\t\t[普通]千 ",
    "23\n",
    "\t\t[普通]津 ",
    "28\n",
    "\t\t[普通]千 ",
    "33\n",
    "\t\t[普通]千 ",
    "38\n",
    "\t\t[普通]千 ",
    "42\n",
    "\t\t[普通]津 ",
    "47\n",
    "\t\t[普通]千 ",
    "51\n",
    "\t\t[普通]津 ",
    "56\n",
    "17\t[普通]千 ",
    "01\n",
    "\t\t[普通]津 ",
    "06\n",
    "\t\t[普通]千 ",
    "11\n",
    "\t\t[普通]西 ",
    "15\n",
    "\t\t[普通]千 ",
    "20\n",
    "\t\t[普通]千 ",
    "24\n",
    "\t\t[普通]西 ",
    "29\n",
    "\t\t[普通]千 ",
    "33\n",
    "\t\t[普通]千 ",
    "37\n",
    "\t\t[普通]千 ",
    "42\n",
    "\t\t[普通]西 ",
    "45\n",
    "\t\t[普通]千 ",
    "49\n",
    "\t\t[普通]津 ",
    "52\n",
    "\t\t[普通]西 ",
    "56\n",
    "\t\t[普通]千 ",
    "59\n",
    "18\t[普通]津 ",
    "02\n",
    "\t\t[普通]津 ",
    "06\n",
    "\t\t[普通]千 ",
    "09\n",
    "\t\t[普通]西 ",
    "13\n",
    "\t\t[普通]千 ",
    "16\n",
    "\t\t[普通]千 ",
    "19\n",
    "\t\t[普通]津 ",
    "23\n",
    "\t\t[普通]西 ",
    "26\n",
    "\t\t[普通]千 ",
    "29\n",
    "\t\t[普通]津 ",
    "32\n",
    "\t\t[普通]西 ",
    "35\n",
    "\t\t[普通]千 ",
    "38\n",
    "\t\t[普通]千 ",
    "41\n",
    "\t\t[普通]津 ",
    "43\n",
    "\t\t[普通]西 ",
    "47\n",
    "\t\t[普通]千 ",
    "50\n",
    "\t\t[普通]千 ",
    "54\n",
    "\t\t[普通]西 ",
    "57\n",
    "19\t[普通]千 ",
    "01\n",
    "\t\t[普通]津 ",
    "04\n",
    "\t\t[普通]千 ",
    "09\n",
    "\t\t[普通]千 ",
    "14\n",
    "\t\t[普通]千 ",
    "18\n",
    "\t\t[普通]津 ",
    "23\n",
    "\t\t[普通]千 ",
    "27\n",
    "\t\t[普通]津 ",
    "31\n",
    "\t\t[普通]千 ",
    "35\n",
    "\t\t[普通]津 ",
    "40\n",
    "\t\t[普通]千 ",
    "44\n",
    "\t\t[普通]津 ",
    "49\n",
    "\t\t[普通]千 ",
    "53\n",
    "\t\t[普通]千 ",
    "58\n",
    "20\t[普通]津 ",
    "03\n",
    "\t\t[普通]千 ",
    "09\n",
    "\t\t[普通]千 ",
    "14\n",
    "\t\t[普通]津 ",
    "20\n",
    "\t\t[普通]千 ",
    "25\n",
    "\t\t[普通]千 ",
    "31\n",
    "\t\t[普通]津 ",
    "34\n",
    "\t\t[普通]千 ",
    "38\n",
    "\t\t[普通]千 ",
    "42\n",
    "\t\t[普通]津 ",
    "46\n",
    "\t\t[普通]千 ",
    "51\n",
    "\t\t[普通]津 ",
    "55\n",
    "21\t[普通]千 ",
    "00\n",
    "\t\t[普通]津 ",
    "04\n",
    "\t\t[普通]千 ",
    "09\n",
    "\t\t[普通]津 ",
    "14\n",
    "\t\t[普通]千 ",
    "19\n",
    "\t\t[普通]津 ",
    "24\n",
    "\t\t[普通]千 ",
    "29\n",
    "\t\t[普通]千 ",
    "34\n",
    "\t\t[普通]千 ",
    "40\n",
    "\t\t[普通]津 ",
    "44\n",
    "\t\t[普通]千 ",
    "50\n",
    "\t\t[普通]津 ",
    "55\n",
    "22\t[普通]千 ",
    "00\n",
    "\t\t[普通]津 ",
    "06\n",
    "\t\t[普通]千 ",
    "12\n",
    "\t\t[普通]津 ",
    "18\n",
    "\t\t[普通]千 ",
    "25\n",
    "\t\t[普通]千 ",
    "31\n",
    "\t\t[普通]津 ",
    "38\n",
    "\t\t[普通]千 ",
    "43\n",
    "\t\t[普通]千 ",
    "50\n",
    "\t\t[普通]津 ",
    "57\n",
    "23\t[普通]千 ",
    "04\n",
    "\t\t[普通]津 ",
    "10\n",
    "\t\t[普通]千 ",
    "18\n",
    "\t\t[普通]津 ",
    "26\n",
    "\t\t[普通]千 ",
    "34\n",
    "\t\t[普通]津 ",
    "40\n",
    "\t\t[普通]津 ",
    "48\n",
    "\t\t[普通]千 ",
    "55\n",
    "00\t[普通]津 ",
    "01\n",
    "\t\t[普通]津 ",
    "08\n",
    "\t\t[普通]千 ",
    "15\n",
    "\t\t[普通]津 ",
    "21\n",
    "\t\t[普通]津 ",
    "28\n",
    "\t\t[普通]津 ",
    "34\n",
    "\"\"\")"
   ]
  },
  {
   "cell_type": "code",
   "execution_count": 112,
   "id": "28207c03",
   "metadata": {},
   "outputs": [],
   "source": [
    "text_伊勢崎線区間急行_浅草 = clean_raw_timetable_text(\"\"\"\n",
    "\"\"\")"
   ]
  },
  {
   "cell_type": "code",
   "execution_count": 113,
   "id": "c4467739-f117-4605-890d-87dba616b7e2",
   "metadata": {},
   "outputs": [],
   "source": [
    "text_伊勢崎線区間急行_伊勢崎 = clean_raw_timetable_text(\"\"\"\n",
    "\"\"\")"
   ]
  },
  {
   "cell_type": "code",
   "execution_count": null,
   "id": "87861863",
   "metadata": {},
   "outputs": [],
   "source": [
    "text_半蔵門線_渋谷 = clean_raw_timetable_text(\"\"\"\n",
    "\"\"\")"
   ]
  },
  {
   "cell_type": "code",
   "execution_count": null,
   "id": "29459153-d099-40ab-8fd1-d4aaaed85744",
   "metadata": {},
   "outputs": [],
   "source": [
    "text_半蔵門線_押上 = clean_raw_timetable_text(\"\"\"\n",
    "\"\"\")"
   ]
  },
  {
   "cell_type": "code",
   "execution_count": null,
   "id": "efb0c511",
   "metadata": {},
   "outputs": [],
   "source": [
    "text_新宿線_新宿 = clean_raw_timetable_text(\"\"\"\n",
    "\"\"\")"
   ]
  },
  {
   "cell_type": "code",
   "execution_count": null,
   "id": "3d4c0936-5695-4dce-bf4b-db0adb77340a",
   "metadata": {},
   "outputs": [],
   "source": [
    "text_新宿線_本八幡 = clean_raw_timetable_text(\"\"\"\n",
    "\"\"\")"
   ]
  },
  {
   "cell_type": "code",
   "execution_count": null,
   "id": "d56e1366",
   "metadata": {},
   "outputs": [],
   "source": [
    "text_大江戸線_両国_春日 = clean_raw_timetable_text(\"\"\"\n",
    "\"\"\")"
   ]
  },
  {
   "cell_type": "code",
   "execution_count": null,
   "id": "ac2ca435-a6b8-4dd4-ac05-8796c34dd48a",
   "metadata": {},
   "outputs": [],
   "source": [
    "text_大江戸線_大門_六本木 = clean_raw_timetable_text(\"\"\"\n",
    "\"\"\")"
   ]
  },
  {
   "cell_type": "code",
   "execution_count": null,
   "id": "5130ab8d",
   "metadata": {},
   "outputs": [],
   "source": [
    "text_浅草線快特停車駅_押上 = clean_raw_timetable_text(\"\"\"\n",
    "\"\"\")"
   ]
  },
  {
   "cell_type": "code",
   "execution_count": null,
   "id": "0fc24fb7-e538-41de-941f-a64b38509b24",
   "metadata": {},
   "outputs": [],
   "source": [
    "text_浅草線快特停車駅_西馬込 = clean_raw_timetable_text(\"\"\"\n",
    "\"\"\")"
   ]
  },
  {
   "cell_type": "code",
   "execution_count": null,
   "id": "6b333791",
   "metadata": {},
   "outputs": [],
   "source": [
    "text_浅草線各停駅_押上 = clean_raw_timetable_text(\"\"\"\n",
    "\"\"\")"
   ]
  },
  {
   "cell_type": "code",
   "execution_count": null,
   "id": "70792972-0f90-4c61-b1cf-8d240ceb81d8",
   "metadata": {},
   "outputs": [],
   "source": [
    "text_浅草線各停駅_西馬込 = clean_raw_timetable_text(\"\"\"\n",
    "\"\"\")"
   ]
  },
  {
   "cell_type": "code",
   "execution_count": null,
   "id": "e4cdf3e3",
   "metadata": {},
   "outputs": [],
   "source": [
    "text_亀戸線_曳舟 = clean_raw_timetable_text(\"\"\"\n",
    "\"\"\")"
   ]
  },
  {
   "cell_type": "code",
   "execution_count": null,
   "id": "44932d4f-77b6-4646-88fc-1a3468c41f51",
   "metadata": {},
   "outputs": [],
   "source": [
    "text_亀戸線_亀戸 = clean_raw_timetable_text(\"\"\"\n",
    "\"\"\")"
   ]
  },
  {
   "cell_type": "code",
   "execution_count": null,
   "id": "1afd13a9",
   "metadata": {},
   "outputs": [],
   "source": [
    "text_押上線_西馬込 = clean_raw_timetable_text(\"\"\"\n",
    "\"\"\")"
   ]
  },
  {
   "cell_type": "code",
   "execution_count": null,
   "id": "fe357051-23d7-4976-93d4-d7a8c77a9ba8",
   "metadata": {},
   "outputs": [],
   "source": [
    "text_押上線_成田空港 = clean_raw_timetable_text(\"\"\"\n",
    "\"\"\")"
   ]
  },
  {
   "cell_type": "code",
   "execution_count": null,
   "id": "3b537702",
   "metadata": {},
   "outputs": [],
   "source": [
    "text_京成本線_京成上野 = clean_raw_timetable_text(\"\"\"\n",
    "\"\"\")"
   ]
  },
  {
   "cell_type": "code",
   "execution_count": null,
   "id": "bde217d3-b1b2-4e14-9b9d-dc2cb11aac01",
   "metadata": {},
   "outputs": [],
   "source": [
    "text_京成本線_成田空港 = clean_raw_timetable_text(\"\"\"\n",
    "\"\"\")"
   ]
  },
  {
   "cell_type": "code",
   "execution_count": null,
   "id": "b9480511",
   "metadata": {},
   "outputs": [],
   "source": [
    "text_総武快速線_千葉 = clean_raw_timetable_text(\"\"\"\n",
    "\"\"\")"
   ]
  },
  {
   "cell_type": "code",
   "execution_count": null,
   "id": "dd9da64a-f4eb-48ee-9dbb-3b6525a03bb7",
   "metadata": {},
   "outputs": [],
   "source": [
    "text_総武快速線_東京 = clean_raw_timetable_text(\"\"\"\n",
    "\"\"\")"
   ]
  },
  {
   "cell_type": "code",
   "execution_count": null,
   "id": "2c6d4179",
   "metadata": {},
   "outputs": [],
   "source": [
    "text_伊勢崎線急行_曳舟 = clean_raw_timetable_text(\"\"\"\n",
    "\"\"\")"
   ]
  },
  {
   "cell_type": "code",
   "execution_count": null,
   "id": "1d66c0b5",
   "metadata": {},
   "outputs": [],
   "source": [
    "text_伊勢崎線準急_浅草 = clean_raw_timetable_text(\"\"\"\n",
    "\"\"\")"
   ]
  },
  {
   "cell_type": "code",
   "execution_count": null,
   "id": "0920935b-3c9d-4b47-9d6e-f97f4c1df183",
   "metadata": {},
   "outputs": [],
   "source": [
    "text_伊勢崎線準急_伊勢崎 = clean_raw_timetable_text(\"\"\"\n",
    "\"\"\")"
   ]
  },
  {
   "cell_type": "code",
   "execution_count": null,
   "id": "249c574f-dad3-4820-8b64-1478e44c52c3",
   "metadata": {},
   "outputs": [],
   "source": [
    "text_伊勢崎線準急_押上 = clean_raw_timetable_text(\"\"\"\n",
    "\"\"\")"
   ]
  },
  {
   "cell_type": "code",
   "execution_count": null,
   "id": "cdc0e2c7",
   "metadata": {},
   "outputs": [],
   "source": [
    "text_日比谷線_北千住 = clean_raw_timetable_text(\"\"\"\n",
    "\"\"\")"
   ]
  },
  {
   "cell_type": "code",
   "execution_count": null,
   "id": "abd08a92-40ab-4fa2-9a33-c1ec39abae7e",
   "metadata": {},
   "outputs": [],
   "source": [
    "text_日比谷線_中目黒 = clean_raw_timetable_text(\"\"\"\n",
    "\"\"\")"
   ]
  },
  {
   "cell_type": "code",
   "execution_count": null,
   "id": "044aa4fd",
   "metadata": {},
   "outputs": [],
   "source": [
    "text_銀座線_浅草 = clean_raw_timetable_text(\"\"\"\n",
    "\"\"\")"
   ]
  },
  {
   "cell_type": "code",
   "execution_count": null,
   "id": "aabce2ee-3699-494c-a684-f0fad40cc50a",
   "metadata": {},
   "outputs": [],
   "source": [
    "text_銀座線_渋谷 = clean_raw_timetable_text(\"\"\"\n",
    "\"\"\")"
   ]
  },
  {
   "cell_type": "code",
   "execution_count": null,
   "id": "ee0f4ba8",
   "metadata": {},
   "outputs": [],
   "source": [
    "text_常磐新線_つくば = clean_raw_timetable_text(\"\"\"\n",
    "\"\"\")"
   ]
  },
  {
   "cell_type": "code",
   "execution_count": null,
   "id": "0493bbe8-3c6e-47d5-b568-49e290f242b6",
   "metadata": {},
   "outputs": [],
   "source": [
    "text_常磐新線_秋葉原 = clean_raw_timetable_text(\"\"\"\n",
    "\"\"\")"
   ]
  },
  {
   "cell_type": "code",
   "execution_count": 114,
   "id": "0bfdbdc7-b341-415f-85fb-353b88b39af7",
   "metadata": {},
   "outputs": [],
   "source": [
    "# --- 関数定義：時刻表処理と集計 ---\n",
    "from datetime import datetime, timedelta\n",
    "import pandas as pd\n",
    "\n",
    "def parse_starred_time_text(text):\n",
    "    lines = text.strip().splitlines()\n",
    "    current_hour = None\n",
    "    times = []\n",
    "    for line in lines:\n",
    "        line = line.strip()\n",
    "        if not line:\n",
    "            continue\n",
    "        if line.startswith(\"*\"):\n",
    "            part = ''.join(filter(str.isdigit, line))\n",
    "            if current_hour and part:\n",
    "                times.append(f\"{current_hour}:{part.zfill(2)}\")\n",
    "        elif line.isdigit():\n",
    "            current_hour = line.zfill(2)\n",
    "    return [datetime.strptime(t, \"%H:%M\").time() for t in times]\n",
    "\n",
    "def make_time_bins(start=\"04:00\", end=\"23:59\"):\n",
    "    bins, labels = [], []\n",
    "    start_dt = datetime.strptime(start, \"%H:%M\")\n",
    "    end_dt = datetime.strptime(end, \"%H:%M\")\n",
    "    while start_dt < end_dt:\n",
    "        bin_start = start_dt.time()\n",
    "        bin_end = (start_dt + timedelta(minutes=14)).time()\n",
    "        label = f\"{bin_start.strftime('%H:%M')}-{bin_end.strftime('%H:%M')}\"\n",
    "        bins.append((bin_start, bin_end))\n",
    "        labels.append(label)\n",
    "        start_dt += timedelta(minutes=15)\n",
    "    return bins, labels\n",
    "\n",
    "def count_by_time_bins(time_list, bins, labels):\n",
    "    count_dict = {label: 0 for label in labels}\n",
    "    for t in time_list:\n",
    "        for (bin_start, bin_end), label in zip(bins, labels):\n",
    "            if bin_start <= t <= bin_end:\n",
    "                count_dict[label] += 1\n",
    "                break\n",
    "    return count_dict\n",
    "\n",
    "def make_frequency_df(direction_dict, route, station):\n",
    "    bins, labels = make_time_bins()\n",
    "    data_rows = []\n",
    "    for dest, text in direction_dict.items():\n",
    "        parsed_times = parse_starred_time_text(text)\n",
    "        counts = count_by_time_bins(parsed_times, bins, labels)\n",
    "        data_rows.append(list(counts.values()))\n",
    "    index = pd.MultiIndex.from_product([[route], [station], list(direction_dict.keys())],\n",
    "                                       names=[\"路線\", \"基準駅\", \"行き先\"])\n",
    "    df = pd.DataFrame(data_rows, index=index, columns=labels)\n",
    "    return df"
   ]
  },
  {
   "cell_type": "code",
   "execution_count": 115,
   "id": "df8e9f0c",
   "metadata": {},
   "outputs": [],
   "source": [
    "all_data = {\n",
    "     (\"総武線（各停）\", \"錦糸町\"): {\n",
    "         \"三鷹\": text_総武線各停_三鷹,\n",
    "         \"千葉\": text_総武線各停_千葉,\n",
    "     },\n",
    "#     (\"伊勢崎線（区間急行）\", \"鐘ヶ淵\"): {\n",
    "#         \"浅草\": text_伊勢崎線区間急行_浅草,\n",
    "#         \"伊勢崎\": text_伊勢崎線区間急行_伊勢崎,\n",
    "#     },\n",
    "#     (\"半蔵門線\", \"錦糸町\"): {\n",
    "#         \"渋谷\": text_半蔵門線_渋谷,\n",
    "#         \"押上\": text_半蔵門線_押上,\n",
    "#     },\n",
    "#     (\"新宿線\", \"菊川\"): {\n",
    "#         \"新宿\": text_新宿線_新宿,\n",
    "#         \"本八幡\": text_新宿線_本八幡,\n",
    "#     },\n",
    "#     (\"大江戸線\", \"清澄白河\"): {\n",
    "#         \"両国・春日\": text_大江戸線_両国_春日,\n",
    "#         \"大門・六本木\": text_大江戸線_大門六本木,\n",
    "#     },\n",
    "#     (\"浅草線（快特停車駅）\", \"浅草\"): {\n",
    "#         \"押上\": text_浅草線快特停車駅_押上,\n",
    "#         \"西馬込\": text_浅草線快特停車駅_西馬込,\n",
    "#     },\n",
    "#     (\"浅草線（各停駅）\", \"蔵前\"): {\n",
    "#         \"押上\": text_浅草線各停駅_押上,\n",
    "#         \"西馬込\": text_浅草線各停駅_西馬込,\n",
    "#     },\n",
    "#     (\"亀戸線\", \"東あずま\"): {\n",
    "#         \"曳舟\": text_亀戸線_曳舟,\n",
    "#         \"亀戸\": text_亀戸線_亀戸,\n",
    "#     },\n",
    "#     (\"押上線\", \"八広\"): {\n",
    "#         \"西馬込\": text_押上線_西馬込,\n",
    "#         \"成田空港\": text_押上線_成田空港,\n",
    "#     },\n",
    "#     (\"京成本線\", \"京成関屋\"): {\n",
    "#         \"京成上野\": text_京成本線_京成上野,\n",
    "#         \"成田空港\": text_京成本線_成田空港,\n",
    "#     },\n",
    "#     (\"総武快速線\", \"錦糸町\"): {\n",
    "#         \"千葉\": text_総武快速線_千葉,\n",
    "#         \"東京\": text_総武快速線_東京,\n",
    "#     },\n",
    "#     (\"伊勢崎線（急行）\", \"押上\"): {\n",
    "#         \"曳舟\": text_伊勢崎線急行_曳舟,\n",
    "#     },\n",
    "#     (\"伊勢崎線（準急）\", \"曳舟\"): {\n",
    "#         \"浅草\": text_伊勢崎線準急_浅草,\n",
    "#         \"伊勢崎\": text_伊勢崎線準急_伊勢崎,\n",
    "#         \"押上\": text_伊勢崎線準急_押上,\n",
    "#     },\n",
    "#     (\"日比谷線\", \"人形町\"): {\n",
    "#         \"北千住\": text_日比谷線_北千住,\n",
    "#         \"中目黒\": text_日比谷線_中目黒,\n",
    "#     },\n",
    "#     (\"銀座線\", \"田原町\"): {\n",
    "#         \"浅草\": text_銀座線_浅草,\n",
    "#         \"渋谷\": text_銀座線_渋谷,\n",
    "#     },\n",
    "#     (\"常磐新線\", \"浅草\"): {\n",
    "#         \"つくば\": text_常磐新線_つくば,\n",
    "#         \"秋葉原\": text_常磐新線_秋葉原,\n",
    "#     },\n",
    " }"
   ]
  },
  {
   "cell_type": "code",
   "execution_count": 116,
   "id": "964c3316-f2ca-4d6f-baf7-cf357eded865",
   "metadata": {},
   "outputs": [],
   "source": [
    "# --- 各組み合わせごとに DataFrame を生成し、まとめて結合 ---\n",
    "all_dfs = []\n",
    "for (route, station), direction_dict in all_data.items():\n",
    "    df = make_frequency_df(direction_dict, route=route, station=station)\n",
    "    all_dfs.append(df)\n",
    "\n",
    "# --- 結合して最終的な DataFrame を作成 ---\n",
    "final_df = pd.concat(all_dfs)"
   ]
  },
  {
   "cell_type": "code",
   "execution_count": 117,
   "id": "f840679b-9f4c-4ff9-9e00-4558254f591e",
   "metadata": {},
   "outputs": [],
   "source": [
    "# --- Excelファイルとして保存 ---\n",
    "final_df.to_csv(\"train_all.csv\")"
   ]
  },
  {
   "cell_type": "code",
   "execution_count": 118,
   "id": "d230e6dc-f60b-4793-8e87-04c9d3c38e12",
   "metadata": {},
   "outputs": [
    {
     "name": "stdout",
     "output_type": "stream",
     "text": [
      "[datetime.time(16, 16)]\n"
     ]
    }
   ],
   "source": [
    "print(parse_embedded_minute_timetable_text(\"\"\"\n",
    "04\t[普通]三 ",
    "55\n",
    "05\t[普通]三 ",
    "16\n",
    "\t\t[普通]三 ",
    "31\n",
    "\t\t[普通]三 ",
    "42\n",
    "\t\t[普通]三 ",
    "53\n",
    "\"\"\"))"
   ]
  },
  {
   "cell_type": "code",
   "execution_count": null,
   "id": "718ad188-ccf5-4ff9-830f-c7b3320b800a",
   "metadata": {},
   "outputs": [],
   "source": []
  }
 ],
 "metadata": {
  "kernelspec": {
   "display_name": "Python 3 (ipykernel)",
   "language": "python",
   "name": "python3"
  },
  "language_info": {
   "codemirror_mode": {
    "name": "ipython",
    "version": 3
   },
   "file_extension": ".py",
   "mimetype": "text/x-python",
   "name": "python",
   "nbconvert_exporter": "python",
   "pygments_lexer": "ipython3",
   "version": "3.12.9"
  }
 },
 "nbformat": 4,
 "nbformat_minor": 5
}
