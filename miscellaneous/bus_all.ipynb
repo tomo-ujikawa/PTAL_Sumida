{
 "cells": [
  {
   "cell_type": "code",
   "execution_count": 1,
   "id": "32465ad5-2c91-40e4-9d9b-aa11fec8b6c1",
   "metadata": {},
   "outputs": [],
   "source": [
    "from datetime import datetime, timedelta\n",
    "import pandas as pd"
   ]
  },
  {
   "cell_type": "code",
   "execution_count": 2,
   "id": "1caf133a-6c66-488d-bc6c-65f17fe8dcb3",
   "metadata": {},
   "outputs": [],
   "source": [
    "# --- 関数定義：時刻表処理と集計 ---\n",
    "def parse_starred_time_text(text):\n",
    "    lines = text.strip().splitlines()\n",
    "    current_hour = None\n",
    "    times = []\n",
    "    for line in lines:\n",
    "        line = line.strip()\n",
    "        if not line:\n",
    "            continue\n",
    "        if line.startswith(\"*\"):\n",
    "            part = ''.join(filter(str.isdigit, line))\n",
    "            if current_hour and part:\n",
    "                times.append(f\"{current_hour}:{part.zfill(2)}\")\n",
    "        elif line.isdigit():\n",
    "            current_hour = line.zfill(2)\n",
    "    return [datetime.strptime(t, \"%H:%M\").time() for t in times]\n",
    "\n",
    "def make_time_bins(start=\"06:00\", end=\"23:59\"):\n",
    "    bins, labels = [], []\n",
    "    start_dt = datetime.strptime(start, \"%H:%M\")\n",
    "    end_dt = datetime.strptime(end, \"%H:%M\")\n",
    "    while start_dt < end_dt:\n",
    "        bin_start = start_dt.time()\n",
    "        bin_end = (start_dt + timedelta(minutes=14)).time()\n",
    "        label = f\"{bin_start.strftime('%H:%M')}-{bin_end.strftime('%H:%M')}\"\n",
    "        bins.append((bin_start, bin_end))\n",
    "        labels.append(label)\n",
    "        start_dt += timedelta(minutes=15)\n",
    "    return bins, labels\n",
    "\n",
    "def count_by_time_bins(time_list, bins, labels):\n",
    "    count_dict = {label: 0 for label in labels}\n",
    "    for t in time_list:\n",
    "        for (bin_start, bin_end), label in zip(bins, labels):\n",
    "            if bin_start <= t <= bin_end:\n",
    "                count_dict[label] += 1\n",
    "                break\n",
    "    return count_dict\n",
    "\n",
    "def make_frequency_df(direction_dict, route, station, source=\"都営バス\"):\n",
    "    bins, labels = make_time_bins()\n",
    "    data_rows = []\n",
    "    for dest, text in direction_dict.items():\n",
    "        parsed_times = parse_starred_time_text(text)\n",
    "        counts = count_by_time_bins(parsed_times, bins, labels)\n",
    "        data_rows.append(list(counts.values()))\n",
    "    index = pd.MultiIndex.from_product([[route], [station], list(direction_dict.keys())],\n",
    "                                       names=[\"路線\", \"基準駅\", \"行き先\"])\n",
    "    df = pd.DataFrame(data_rows, index=index, columns=labels)\n",
    "    df.insert(0, \"出典\", source)\n",
    "    return df"
   ]
  },
  {
   "cell_type": "code",
   "execution_count": null,
   "id": "177ab293-2e43-4528-93d8-ef1acec7b54e",
   "metadata": {},
   "outputs": [],
   "source": [
    "# --- 時刻表データを入力 ---\n",
    "text_ueno = \"\"\"06\n",
    "* \t\t ",
    "18 ",
    "\n",
    "* \t\t ",
    "53 ",
    "\n",
    "07\n",
    "* \t\t ",
    "09 ",
    "\n",
    "* \t\t ",
    "25 ",
    "\n",
    "* \t\t ",
    "46 ",
    "\n",
    "08\n",
    "* \t\t ",
    "03 ",
    "\n",
    "* \t\t ",
    "19 ",
    "\n",
    "* \t\t ",
    "35 ",
    "\n",
    "* \t\t ",
    "53 ",
    "\n",
    "09\n",
    "* \t\t ",
    "12 ",
    "\n",
    "* \t\t ",
    "36 ",
    "\n",
    "10\n",
    "* \t\t ",
    "00 ",
    "\n",
    "* \t\t ",
    "24 ",
    "\n",
    "* \t\t ",
    "50 ",
    "\n",
    "11\n",
    "* \t\t ",
    "16 ",
    "\n",
    "* \t\t ",
    "43 ",
    "\n",
    "12\n",
    "* \t\t ",
    "10 ",
    "\n",
    "* \t\t ",
    "37 ",
    "\n",
    "13\n",
    "* \t\t ",
    "05 ",
    "\n",
    "* \t\t ",
    "33 ",
    "\n",
    "14\n",
    "* \t\t ",
    "01 ",
    "\n",
    "* \t\t ",
    "29 ",
    "\n",
    "* \t\t ",
    "55 ",
    "\n",
    "15\n",
    "* \t\t ",
    "19 ",
    "\n",
    "* \t\t ",
    "43 ",
    "\n",
    "16\n",
    "* \t\t ",
    "07 ",
    "\n",
    "* \t\t ",
    "31 ",
    "\n",
    "* \t\t ",
    "55 ",
    "\n",
    "17\n",
    "* \t\t ",
    "19 ",
    "\n",
    "* \t\t ",
    "45 ",
    "\n",
    "18\n",
    "* \t\t ",
    "10 ",
    "\n",
    "* \t\t ",
    "38 ",
    "\n",
    "19\n",
    "* \t\t ",
    "02 ",
    "\n",
    "* \t\t ",
    "40 ",
    "\n",
    "20\n",
    "* \t\t ",
    "29 ",
    "\n",
    "21\n",
    "* \t\t ",
    "32\n",
    "\"\"\"\n",
    "\n",
    "text_hirai = \"\"\"07\n",
    "* 08\n",
    "* 36\n",
    "* 53\n",
    "08\n",
    "* 08\n",
    "* 31\n",
    "* 52\"\"\""
   ]
  },
  {
   "cell_type": "code",
   "execution_count": null,
   "id": "bd4a9224-f3ed-495d-8add-5589c0ca5b15",
   "metadata": {},
   "outputs": [],
   "source": [
    "# --- 各地点・路線・行き先のデータを辞書で定義 ---\n",
    "all_data = {\n",
    "    (\"上23\", \"押上駅\"): {\n",
    "        \"上野松坂屋前\": text_ueno,\n",
    "        \"平井駅前\": text_hirai\n",
    "    }\n",
    "    # 必要に応じて追加...\n",
    "}"
   ]
  },
  {
   "cell_type": "code",
   "execution_count": null,
   "id": "b141edbe-d7c5-4230-ac68-7ed04f51fe72",
   "metadata": {},
   "outputs": [],
   "source": [
    "# --- 各組み合わせごとに DataFrame を生成し、まとめて結合 ---\n",
    "all_dfs = []\n",
    "for (route, station), direction_dict in all_data.items():\n",
    "    df = make_frequency_df(direction_dict, route=route, station=station)\n",
    "    all_dfs.append(df)\n",
    "\n",
    "# --- 結合して最終的な DataFrame を作成 ---\n",
    "final_df = pd.concat(all_dfs)"
   ]
  },
  {
   "cell_type": "code",
   "execution_count": null,
   "id": "ae4ddfec-57a5-4abc-80cb-2485b90ff376",
   "metadata": {},
   "outputs": [],
   "source": [
    "# --- Excelファイルとして保存 ---\n",
    "final_df.to_csv(\"bus_all.csv\")"
   ]
  }
 ],
 "metadata": {
  "kernelspec": {
   "display_name": "Python 3 (ipykernel)",
   "language": "python",
   "name": "python3"
  },
  "language_info": {
   "codemirror_mode": {
    "name": "ipython",
    "version": 3
   },
   "file_extension": ".py",
   "mimetype": "text/x-python",
   "name": "python",
   "nbconvert_exporter": "python",
   "pygments_lexer": "ipython3",
   "version": "3.12.9"
  }
 },
 "nbformat": 4,
 "nbformat_minor": 5
}
