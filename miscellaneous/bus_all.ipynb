{
 "cells": [
  {
   "cell_type": "code",
   "execution_count": 2,
   "id": "98175dc9-65ce-4e25-b622-a5b06ec173df",
   "metadata": {},
   "outputs": [],
   "source": [
    "import re\n",
    "\n",
    "def clean_raw_timetable_text(raw_text):\n",
    "    text = raw_text.replace('\\u2028', '\\n')\n",
    "    text = re.sub(r'[\\u200b\\u3000]', '', text)\n",
    "    text = re.sub(r'[ \\t]+', ' ', text)\n",
    "    text = re.sub(r'\\*\\s+', '* ', text)\n",
    "\n",
    "    lines = text.strip().splitlines()\n",
    "    cleaned_lines = []\n",
    "    for line in lines:\n",
    "        line = line.strip()\n",
    "        if not line:\n",
    "            continue\n",
    "        if re.match(r'^\\d{1,2}$', line):  # hour\n",
    "            cleaned_lines.append(line.zfill(2))\n",
    "        elif re.match(r'^\\*\\s*\\d{1,2}$', line):  # minute\n",
    "            minute = re.search(r'\\d{1,2}', line).group()\n",
    "            cleaned_lines.append(f\"* {minute.zfill(2)}\")\n",
    "    return \"\\n\".join(cleaned_lines)\n"
   ]
  },
  {
   "cell_type": "code",
   "execution_count": null,
   "id": "f153a427",
   "metadata": {},
   "outputs": [],
   "source": [
    "# --- 各時刻テキストをここに定義（全路線）---\n"
   ]
  },
  {
   "cell_type": "code",
   "execution_count": 3,
   "id": "a9f2f032-2782-41ce-a6d0-8e624ab15297",
   "metadata": {},
   "outputs": [],
   "source": [
    "text_上23_上野松坂屋前 = clean_raw_timetable_text(\"\"\"06\n",
    "* \t\t ",
    "18 ",
    "\n",
    "* \t\t ",
    "53 ",
    "\n",
    "07\n",
    "* \t\t ",
    "09 ",
    "\n",
    "* \t\t ",
    "25 ",
    "\n",
    "* \t\t ",
    "46 ",
    "\n",
    "08\n",
    "* \t\t ",
    "03 ",
    "\n",
    "* \t\t ",
    "19 ",
    "\n",
    "* \t\t ",
    "35 ",
    "\n",
    "* \t\t ",
    "53 ",
    "\n",
    "09\n",
    "* \t\t ",
    "12 ",
    "\n",
    "* \t\t ",
    "36 ",
    "\n",
    "10\n",
    "* \t\t ",
    "00 ",
    "\n",
    "* \t\t ",
    "24 ",
    "\n",
    "* \t\t ",
    "50 ",
    "\n",
    "11\n",
    "* \t\t ",
    "16 ",
    "\n",
    "* \t\t ",
    "43 ",
    "\n",
    "12\n",
    "* \t\t ",
    "10 ",
    "\n",
    "* \t\t ",
    "37 ",
    "\n",
    "13\n",
    "* \t\t ",
    "05 ",
    "\n",
    "* \t\t ",
    "33 ",
    "\n",
    "14\n",
    "* \t\t ",
    "01 ",
    "\n",
    "* \t\t ",
    "29 ",
    "\n",
    "* \t\t ",
    "55 ",
    "\n",
    "15\n",
    "* \t\t ",
    "19 ",
    "\n",
    "* \t\t ",
    "43 ",
    "\n",
    "16\n",
    "* \t\t ",
    "07 ",
    "\n",
    "* \t\t ",
    "31 ",
    "\n",
    "* \t\t ",
    "55 ",
    "\n",
    "17\n",
    "* \t\t ",
    "19 ",
    "\n",
    "* \t\t ",
    "45 ",
    "\n",
    "18\n",
    "* \t\t ",
    "10 ",
    "\n",
    "* \t\t ",
    "38 ",
    "\n",
    "19\n",
    "* \t\t ",
    "02 ",
    "\n",
    "* \t\t ",
    "40 ",
    "\n",
    "20\n",
    "* \t\t ",
    "29 ",
    "\n",
    "21\n",
    "* \t\t ",
    "32\n",
    "\"\"\")"
   ]
  },
  {
   "cell_type": "code",
   "execution_count": 4,
   "id": "0a54d010-1946-486a-a62f-3ac587928dc2",
   "metadata": {},
   "outputs": [],
   "source": [
    "text_上23_平井駅前 = clean_raw_timetable_text(\"\"\"07\n",
    "* \t\t ",
    "08 ",
    "\n",
    "* \t\t ",
    "36 ",
    "\n",
    "* \t\t ",
    "53 ",
    "\n",
    "08\n",
    "* \t\t ",
    "08 ",
    "\n",
    "* \t\t ",
    "31 ",
    "\n",
    "* \t\t ",
    "52 ",
    "\n",
    "09\n",
    "* \t\t ",
    "13 ",
    "\n",
    "* \t\t ",
    "34 ",
    "\n",
    "* \t\t ",
    "56 ",
    "\n",
    "10\n",
    "* \t\t ",
    "20 ",
    "\n",
    "* \t\t ",
    "45 ",
    "\n",
    "11\n",
    "* \t\t ",
    "09 ",
    "\n",
    "* \t\t ",
    "33 ",
    "\n",
    "* \t\t ",
    "57 ",
    "\n",
    "12\n",
    "* \t\t ",
    "23 ",
    "\n",
    "* \t\t ",
    "50 ",
    "\n",
    "13\n",
    "* \t\t ",
    "18 ",
    "\n",
    "* \t\t ",
    "47 ",
    "\n",
    "14\n",
    "* \t\t ",
    "15 ",
    "\n",
    "* \t\t ",
    "43 ",
    "\n",
    "15\n",
    "* \t\t ",
    "11 ",
    "\n",
    "* \t\t ",
    "38 ",
    "\n",
    "16\n",
    "* \t\t ",
    "05 ",
    "\n",
    "* \t\t ",
    "30 ",
    "\n",
    "* \t\t ",
    "54 ",
    "\n",
    "17\n",
    "* \t\t ",
    "18 ",
    "\n",
    "* \t\t ",
    "42 ",
    "\n",
    "18\n",
    "* \t\t ",
    "05 ",
    "\n",
    "* \t\t ",
    "28 ",
    "\n",
    "* \t\t ",
    "52 ",
    "\n",
    "19\n",
    "* \t\t ",
    "17 ",
    "\n",
    "* \t\t ",
    "36 ",
    "東\n",
    "20\n",
    "* \t\t ",
    "00 ",
    "\n",
    "* \t\t ",
    "36 ",
    "\n",
    "21\n",
    "* \t\t ",
    "27 ",
    "\n",
    "22\n",
    "* \t\t ",
    "21\n",
    "\"\"\")"
   ]
  },
  {
   "cell_type": "code",
   "execution_count": 5,
   "id": "9bb67679-c9bd-45e9-8610-ab87787a91f4",
   "metadata": {},
   "outputs": [],
   "source": [
    "text_草24_東大島駅前 = clean_raw_timetable_text(\"\"\"\n",
    "07\n",
    "* \t\t ",
    "22 ",
    "\n",
    "* \t\t ",
    "59 ",
    "\n",
    "08\n",
    "* \t\t ",
    "30 ",
    "\n",
    "09\n",
    "* \t\t ",
    "01 ",
    "\n",
    "* \t\t ",
    "37 ",
    "\n",
    "10\n",
    "* \t\t ",
    "17 ",
    "\n",
    "11\n",
    "* \t\t ",
    "04 ",
    "\n",
    "* \t\t ",
    "52 ",
    "\n",
    "12\n",
    "* \t\t ",
    "47 ",
    "\n",
    "13\n",
    "* \t\t ",
    "41 ",
    "\n",
    "14\n",
    "* \t\t ",
    "31 ",
    "\n",
    "15\n",
    "* \t\t ",
    "22 ",
    "\n",
    "16\n",
    "* \t\t ",
    "02 ",
    "\n",
    "* \t\t ",
    "37 ",
    "\n",
    "17\n",
    "* \t\t ",
    "06 ",
    "\n",
    "* \t\t ",
    "31 ",
    "\n",
    "* \t\t ",
    "56 ",
    "\n",
    "18\n",
    "* \t\t ",
    "26 ",
    "\n",
    "19\n",
    "* \t\t ",
    "15 ",
    "\n",
    "20\n",
    "* \t\t ",
    "12 ",
    "亀\n",
    "21\n",
    "* \t\t ",
    "12\n",
    "\n",
    "\"\"\")"
   ]
  },
  {
   "cell_type": "code",
   "execution_count": 6,
   "id": "5f1581c8-5ca9-49ad-8a96-792790b65e1b",
   "metadata": {},
   "outputs": [],
   "source": [
    "text_草24_浅草寿町 = clean_raw_timetable_text(\"\"\"\n",
    "06\n",
    "* \t\t ",
    "50 ",
    "\n",
    "07\n",
    "* \t\t ",
    "26 ",
    "\n",
    "* \t\t ",
    "56 ",
    "\n",
    "08\n",
    "* \t\t ",
    "26 ",
    "\n",
    "09\n",
    "* \t\t ",
    "01 ",
    "\n",
    "* \t\t ",
    "41 ",
    "\n",
    "10\n",
    "* \t\t ",
    "28 ",
    "\n",
    "11\n",
    "* \t\t ",
    "16 ",
    "\n",
    "12\n",
    "* \t\t ",
    "11 ",
    "\n",
    "13\n",
    "* \t\t ",
    "06 ",
    "\n",
    "* \t\t ",
    "56 ",
    "\n",
    "14\n",
    "* \t\t ",
    "46 ",
    "\n",
    "15\n",
    "* \t\t ",
    "26 ",
    "\n",
    "16\n",
    "* \t\t ",
    "01 ",
    "\n",
    "* \t\t ",
    "31 ",
    "\n",
    "* \t\t ",
    "56 ",
    "\n",
    "17\n",
    "* \t\t ",
    "21 ",
    "\n",
    "* \t\t ",
    "51 ",
    "\n",
    "18\n",
    "* \t\t ",
    "36 ",
    "\n",
    "19\n",
    "* \t\t ",
    "34 ",
    "\n",
    "20\n",
    "* \t\t ",
    "38\n",
    "\n",
    "\"\"\")"
   ]
  },
  {
   "cell_type": "code",
   "execution_count": null,
   "id": "3620ffaf",
   "metadata": {},
   "outputs": [],
   "source": [
    "text_草39_金町駅前 = clean_raw_timetable_text(\"\"\"\n",
    "07\n",
    "* \t\t ",
    "10 ",
    "\n",
    "* \t\t ",
    "46 ",
    "\n",
    "08\n",
    "* \t\t ",
    "09 ",
    "\n",
    "* \t\t ",
    "31 ",
    "\n",
    "* \t\t ",
    "52 ",
    "\n",
    "09\n",
    "* \t\t ",
    "07 ",
    "\n",
    "* \t\t ",
    "23 ",
    "\n",
    "* \t\t ",
    "40 ",
    "\n",
    "10\n",
    "* \t\t ",
    "00 ",
    "\n",
    "* \t\t ",
    "21 ",
    "\n",
    "* \t\t ",
    "42 ",
    "\n",
    "11\n",
    "* \t\t ",
    "05 ",
    "\n",
    "* \t\t ",
    "25 ",
    "\n",
    "* \t\t ",
    "46 ",
    "\n",
    "12\n",
    "* \t\t ",
    "08 ",
    "\n",
    "* \t\t ",
    "28 ",
    "\n",
    "* \t\t ",
    "50 ",
    "\n",
    "13\n",
    "* \t\t ",
    "10 ",
    "\n",
    "* \t\t ",
    "32 ",
    "\n",
    "* \t\t ",
    "52 ",
    "\n",
    "14\n",
    "* \t\t ",
    "13 ",
    "\n",
    "* \t\t ",
    "34 ",
    "\n",
    "* \t\t ",
    "56 ",
    "\n",
    "15\n",
    "* \t\t ",
    "18 ",
    "\n",
    "* \t\t ",
    "42 ",
    "\n",
    "16\n",
    "* \t\t ",
    "03 ",
    "\n",
    "* \t\t ",
    "25 ",
    "\n",
    "* \t\t ",
    "43 ",
    "\n",
    "17\n",
    "* \t\t ",
    "04 ",
    "\n",
    "* \t\t ",
    "26 ",
    "\n",
    "* \t\t ",
    "46 ",
    "\n",
    "18\n",
    "* \t\t ",
    "06 ",
    "\n",
    "* \t\t ",
    "27 ",
    "\n",
    "* \t\t ",
    "47 ",
    "\n",
    "19\n",
    "* \t\t ",
    "07 ",
    "\n",
    "* \t\t ",
    "28 ",
    "\n",
    "* \t\t ",
    "50 ",
    "\n",
    "20\n",
    "* \t\t ",
    "12 ",
    "\n",
    "* \t\t ",
    "33 ",
    "\n",
    "21\n",
    "* \t\t ",
    "05 ",
    "\n",
    "* \t\t ",
    "46 ",
    "\n",
    "22\n",
    "* \t\t ",
    "13\n",
    "\n",
    "\"\"\")"
   ]
  },
  {
   "cell_type": "code",
   "execution_count": null,
   "id": "c6d7c3d0",
   "metadata": {},
   "outputs": [],
   "source": [
    "text_草39_上野松坂屋前 = clean_raw_timetable_text(\"\"\"\n",
    "06\n",
    "* \t\t ",
    "32 ",
    "\n",
    "07\n",
    "* \t\t ",
    "02 ",
    "\n",
    "* \t\t ",
    "25 ",
    "\n",
    "* \t\t ",
    "46 ",
    "\n",
    "08\n",
    "* \t\t ",
    "03 ",
    "\n",
    "* \t\t ",
    "19 ",
    "\n",
    "* \t\t ",
    "35 ",
    "\n",
    "* \t\t ",
    "51 ",
    "\n",
    "09\n",
    "* \t\t ",
    "06 ",
    "\n",
    "* \t\t ",
    "24 ",
    "\n",
    "* \t\t ",
    "45 ",
    "\n",
    "10\n",
    "* \t\t ",
    "09 ",
    "上\n",
    "* \t\t ",
    "23 ",
    "\n",
    "* \t\t ",
    "44 ",
    "上\n",
    "* \t\t ",
    "59 ",
    "\n",
    "11\n",
    "* \t\t ",
    "24 ",
    "上\n",
    "* \t\t ",
    "42 ",
    "\n",
    "12\n",
    "* \t\t ",
    "06 ",
    "上\n",
    "* \t\t ",
    "24 ",
    "\n",
    "* \t\t ",
    "49 ",
    "上\n",
    "13\n",
    "* \t\t ",
    "07 ",
    "\n",
    "* \t\t ",
    "30 ",
    "上\n",
    "* \t\t ",
    "48 ",
    "\n",
    "14\n",
    "* \t\t ",
    "12 ",
    "上\n",
    "* \t\t ",
    "32 ",
    "\n",
    "* \t\t ",
    "57 ",
    "上\n",
    "15\n",
    "* \t\t ",
    "19 ",
    "\n",
    "* \t\t ",
    "45 ",
    "\n",
    "16\n",
    "* \t\t ",
    "11 ",
    "\n",
    "* \t\t ",
    "37 ",
    "\n",
    "17\n",
    "* \t\t ",
    "01 ",
    "\n",
    "* \t\t ",
    "23 ",
    "\n",
    "* \t\t ",
    "44 ",
    "\n",
    "18\n",
    "* \t\t ",
    "03 ",
    "\n",
    "* \t\t ",
    "24 ",
    "\n",
    "* \t\t ",
    "45 ",
    "\n",
    "19\n",
    "* \t\t ",
    "05 ",
    "\n",
    "* \t\t ",
    "27 ",
    "\n",
    "* \t\t ",
    "55 ",
    "\n",
    "20\n",
    "* \t\t ",
    "27 ",
    "\n",
    "21\n",
    "* \t\t ",
    "02 ",
    "\n",
    "* \t\t ",
    "40\n",
    "\n",
    "\"\"\")"
   ]
  },
  {
   "cell_type": "code",
   "execution_count": null,
   "id": "2cd36a44",
   "metadata": {},
   "outputs": [],
   "source": [
    "text_錦11_亀戸駅前 = clean_raw_timetable_text(\"\"\"\n",
    "06\n",
    "* \t\t ",
    "57 ",
    "\n",
    "07\n",
    "* \t\t ",
    "36 ",
    "\n",
    "08\n",
    "* \t\t ",
    "09 ",
    "\n",
    "* \t\t ",
    "33 ",
    "\n",
    "* \t\t ",
    "54 ",
    "\n",
    "09\n",
    "* \t\t ",
    "12 ",
    "\n",
    "* \t\t ",
    "33 ",
    "\n",
    "10\n",
    "* \t\t ",
    "19 ",
    "\n",
    "12\n",
    "* \t\t ",
    "20 ",
    "\n",
    "13\n",
    "* \t\t ",
    "00 ",
    "\n",
    "* \t\t ",
    "40 ",
    "\n",
    "14\n",
    "* \t\t ",
    "20 ",
    "\n",
    "15\n",
    "* \t\t ",
    "31\n",
    "\n",
    "\"\"\")"
   ]
  },
  {
   "cell_type": "code",
   "execution_count": null,
   "id": "901ce587",
   "metadata": {},
   "outputs": [],
   "source": [
    "text_錦11_築地駅前 = clean_raw_timetable_text(\"\"\"\n",
    "06\n",
    "* \t\t始 ",
    "00 ",
    "\n",
    "* \t\t始 ",
    "35 ",
    "\n",
    "07\n",
    "* \t\t始 ",
    "04 ",
    "\n",
    "* \t\t ",
    "25 ",
    "\n",
    "* \t\t始 ",
    "42 ",
    "\n",
    "* \t\t ",
    "59 ",
    "\n",
    "08\n",
    "* \t\t始 ",
    "15 ",
    "\n",
    "* \t\t ",
    "36 ",
    "\n",
    "09\n",
    "* \t\t ",
    "00 ",
    "\n",
    "* \t\t ",
    "29 ",
    "\n",
    "10\n",
    "* \t\t ",
    "08 ",
    "\n",
    "* \t\t ",
    "55 ",
    "\n",
    "11\n",
    "* \t\t ",
    "37 ",
    "\n",
    "12\n",
    "* \t\t ",
    "19 ",
    "\n",
    "* \t\t ",
    "59 ",
    "\n",
    "13\n",
    "* \t\t ",
    "38 ",
    "\n",
    "14\n",
    "* \t\t始 ",
    "14 ",
    "\n",
    "* \t\t ",
    "50 ",
    "\n",
    "15\n",
    "* \t\t ",
    "25 ",
    "\n",
    "16\n",
    "* \t\t ",
    "00 ",
    "\n",
    "* \t\t ",
    "30 ",
    "\n",
    "17\n",
    "* \t\t始 ",
    "00 ",
    "\n",
    "* \t\t ",
    "30 ",
    "\n",
    "18\n",
    "* \t\t始 ",
    "01 ",
    "\n",
    "* \t\t始 ",
    "33 ",
    "\n",
    "19\n",
    "* \t\t始 ",
    "10 ",
    "\n",
    "20\n",
    "* \t\t始 ",
    "00 ",
    "\n",
    "21\n",
    "* \t\t始 ",
    "20\n",
    "\n",
    "\"\"\")"
   ]
  },
  {
   "cell_type": "code",
   "execution_count": null,
   "id": "f8492a0a",
   "metadata": {},
   "outputs": [],
   "source": [
    "text_上26_亀戸駅前 = clean_raw_timetable_text(\"\"\"\n",
    "\n",
    "\"\"\")"
   ]
  },
  {
   "cell_type": "code",
   "execution_count": null,
   "id": "2f8c1c87",
   "metadata": {},
   "outputs": [],
   "source": [
    "text_上26_上野公園 = clean_raw_timetable_text(\"\"\"\n",
    "\n",
    "\"\"\")"
   ]
  },
  {
   "cell_type": "code",
   "execution_count": null,
   "id": "6d6f164b",
   "metadata": {},
   "outputs": [],
   "source": [
    "text_上46_南千住駅東口 = clean_raw_timetable_text(\"\"\"\n",
    "\n",
    "\"\"\")"
   ]
  },
  {
   "cell_type": "code",
   "execution_count": null,
   "id": "440bb70a",
   "metadata": {},
   "outputs": [],
   "source": [
    "text_上46_上野松坂屋前 = clean_raw_timetable_text(\"\"\"\n",
    "\n",
    "\"\"\")"
   ]
  },
  {
   "cell_type": "code",
   "execution_count": null,
   "id": "c1d186a8",
   "metadata": {},
   "outputs": [],
   "source": [
    "text_両28_両国駅前 = clean_raw_timetable_text(\"\"\"\n",
    "\n",
    "\"\"\")"
   ]
  },
  {
   "cell_type": "code",
   "execution_count": null,
   "id": "60d52830",
   "metadata": {},
   "outputs": [],
   "source": [
    "text_両28_葛西橋 = clean_raw_timetable_text(\"\"\"\n",
    "\n",
    "\"\"\")"
   ]
  },
  {
   "cell_type": "code",
   "execution_count": null,
   "id": "3b3f6421",
   "metadata": {},
   "outputs": [],
   "source": [
    "text_亀23_江東高齢者医療センター = clean_raw_timetable_text(\"\"\"\n",
    "\n",
    "\"\"\")"
   ]
  },
  {
   "cell_type": "code",
   "execution_count": null,
   "id": "9590a57c",
   "metadata": {},
   "outputs": [],
   "source": [
    "text_亀24_葛西橋 = clean_raw_timetable_text(\"\"\"\n",
    "\n",
    "\"\"\")"
   ]
  },
  {
   "cell_type": "code",
   "execution_count": null,
   "id": "b237d6af",
   "metadata": {},
   "outputs": [],
   "source": [
    "text_亀24_亀戸駅前 = clean_raw_timetable_text(\"\"\"\n",
    "\n",
    "\"\"\")"
   ]
  },
  {
   "cell_type": "code",
   "execution_count": null,
   "id": "c592f612",
   "metadata": {},
   "outputs": [],
   "source": [
    "text_亀29_なぎさニュータウン = clean_raw_timetable_text(\"\"\"\n",
    "\n",
    "\"\"\")"
   ]
  },
  {
   "cell_type": "code",
   "execution_count": null,
   "id": "e105c04b",
   "metadata": {},
   "outputs": [],
   "source": [
    "text_亀29_亀戸駅前 = clean_raw_timetable_text(\"\"\"\n",
    "\n",
    "\"\"\")"
   ]
  },
  {
   "cell_type": "code",
   "execution_count": null,
   "id": "99504e10",
   "metadata": {},
   "outputs": [],
   "source": [
    "text_平23_平井駅前 = clean_raw_timetable_text(\"\"\"\n",
    "\n",
    "\"\"\")"
   ]
  },
  {
   "cell_type": "code",
   "execution_count": null,
   "id": "deeb1e94",
   "metadata": {},
   "outputs": [],
   "source": [
    "text_平23_葛西駅前 = clean_raw_timetable_text(\"\"\"\n",
    "\n",
    "\"\"\")"
   ]
  },
  {
   "cell_type": "code",
   "execution_count": null,
   "id": "dfc6e174",
   "metadata": {},
   "outputs": [],
   "source": [
    "text_平28_平井駅前 = clean_raw_timetable_text(\"\"\"\n",
    "\n",
    "\"\"\")"
   ]
  },
  {
   "cell_type": "code",
   "execution_count": null,
   "id": "a9fe58dd",
   "metadata": {},
   "outputs": [],
   "source": [
    "text_平28_東大島駅前 = clean_raw_timetable_text(\"\"\"\n",
    "\n",
    "\"\"\")"
   ]
  },
  {
   "cell_type": "code",
   "execution_count": null,
   "id": "1b2c9426",
   "metadata": {},
   "outputs": [],
   "source": [
    "text_新小51_綾瀬駅 = clean_raw_timetable_text(\"\"\"\n",
    "\n",
    "\"\"\")"
   ]
  },
  {
   "cell_type": "code",
   "execution_count": null,
   "id": "0ca9893d",
   "metadata": {},
   "outputs": [],
   "source": [
    "text_新小51_新小岩駅 = clean_raw_timetable_text(\"\"\"\n",
    "\n",
    "\"\"\")"
   ]
  },
  {
   "cell_type": "code",
   "execution_count": null,
   "id": "2b02e738",
   "metadata": {},
   "outputs": [],
   "source": [
    "text_新小52_市川駅 = clean_raw_timetable_text(\"\"\"\n",
    "\n",
    "\"\"\")"
   ]
  },
  {
   "cell_type": "code",
   "execution_count": null,
   "id": "917f40d5",
   "metadata": {},
   "outputs": [],
   "source": [
    "text_新小52_新小岩駅東北広場 = clean_raw_timetable_text(\"\"\"\n",
    "\n",
    "\"\"\")"
   ]
  },
  {
   "cell_type": "code",
   "execution_count": null,
   "id": "ca139282",
   "metadata": {},
   "outputs": [],
   "source": [
    "text_新小52乙_新小岩駅東北広場 = clean_raw_timetable_text(\"\"\"\n",
    "\n",
    "\"\"\")"
   ]
  },
  {
   "cell_type": "code",
   "execution_count": null,
   "id": "c803fb8c",
   "metadata": {},
   "outputs": [],
   "source": [
    "text_東22_東京駅丸の内北口 = clean_raw_timetable_text(\"\"\"\n",
    "\n",
    "\"\"\")"
   ]
  },
  {
   "cell_type": "code",
   "execution_count": null,
   "id": "013efa2b",
   "metadata": {},
   "outputs": [],
   "source": [
    "text_東22_錦糸町駅前 = clean_raw_timetable_text(\"\"\"\n",
    "\n",
    "\"\"\")"
   ]
  },
  {
   "cell_type": "code",
   "execution_count": null,
   "id": "7bc5c207",
   "metadata": {},
   "outputs": [],
   "source": [
    "text_東42_1_南千住駅西口 = clean_raw_timetable_text(\"\"\"\n",
    "\n",
    "\"\"\")"
   ]
  },
  {
   "cell_type": "code",
   "execution_count": null,
   "id": "baa82b29",
   "metadata": {},
   "outputs": [],
   "source": [
    "text_東42_1_東京駅八重洲口 = clean_raw_timetable_text(\"\"\"\n",
    "\n",
    "\"\"\")"
   ]
  },
  {
   "cell_type": "code",
   "execution_count": null,
   "id": "1d6042cf",
   "metadata": {},
   "outputs": [],
   "source": [
    "text_東42_2_南千住駅西口 = clean_raw_timetable_text(\"\"\"\n",
    "\n",
    "\"\"\")"
   ]
  },
  {
   "cell_type": "code",
   "execution_count": null,
   "id": "a050cad4",
   "metadata": {},
   "outputs": [],
   "source": [
    "text_東42_2_東神田 = clean_raw_timetable_text(\"\"\"\n",
    "\n",
    "\"\"\")"
   ]
  },
  {
   "cell_type": "code",
   "execution_count": null,
   "id": "783793d1",
   "metadata": {},
   "outputs": [],
   "source": [
    "text_東42_3_南千住車庫前 = clean_raw_timetable_text(\"\"\"\n",
    "\n",
    "\"\"\")"
   ]
  },
  {
   "cell_type": "code",
   "execution_count": null,
   "id": "77283186",
   "metadata": {},
   "outputs": [],
   "source": [
    "text_東42_3_浅草雷門 = clean_raw_timetable_text(\"\"\"\n",
    "\n",
    "\"\"\")"
   ]
  },
  {
   "cell_type": "code",
   "execution_count": null,
   "id": "1cd20b41",
   "metadata": {},
   "outputs": [],
   "source": [
    "text_業10_新橋 = clean_raw_timetable_text(\"\"\"\n",
    "\n",
    "\"\"\")"
   ]
  },
  {
   "cell_type": "code",
   "execution_count": null,
   "id": "9983630b",
   "metadata": {},
   "outputs": [],
   "source": [
    "text_業10_とうきょうスカイツリー駅前 = clean_raw_timetable_text(\"\"\"\n",
    "\n",
    "\"\"\")"
   ]
  },
  {
   "cell_type": "code",
   "execution_count": null,
   "id": "d3ea4048",
   "metadata": {},
   "outputs": [],
   "source": [
    "text_秋26_葛西駅前 = clean_raw_timetable_text(\"\"\"\n",
    "\n",
    "\"\"\")"
   ]
  },
  {
   "cell_type": "code",
   "execution_count": null,
   "id": "17b1a1c7",
   "metadata": {},
   "outputs": [],
   "source": [
    "text_秋26_秋葉原駅前 = clean_raw_timetable_text(\"\"\"\n",
    "\n",
    "\"\"\")"
   ]
  },
  {
   "cell_type": "code",
   "execution_count": null,
   "id": "a3220e97",
   "metadata": {},
   "outputs": [],
   "source": [
    "text_草41_足立梅田町 = clean_raw_timetable_text(\"\"\"\n",
    "\n",
    "\"\"\")"
   ]
  },
  {
   "cell_type": "code",
   "execution_count": null,
   "id": "4c1ea1a9",
   "metadata": {},
   "outputs": [],
   "source": [
    "text_草43_足立区役所 = clean_raw_timetable_text(\"\"\"\n",
    "\n",
    "\"\"\")"
   ]
  },
  {
   "cell_type": "code",
   "execution_count": null,
   "id": "e284d4fd",
   "metadata": {},
   "outputs": [],
   "source": [
    "text_草43_浅草雷門 = clean_raw_timetable_text(\"\"\"\n",
    "\n",
    "\"\"\")"
   ]
  },
  {
   "cell_type": "code",
   "execution_count": null,
   "id": "7d6bafc2",
   "metadata": {},
   "outputs": [],
   "source": [
    "text_草63_池袋駅東口 = clean_raw_timetable_text(\"\"\"\n",
    "\n",
    "\"\"\")"
   ]
  },
  {
   "cell_type": "code",
   "execution_count": null,
   "id": "8440ce61",
   "metadata": {},
   "outputs": [],
   "source": [
    "text_草64_池袋駅東口 = clean_raw_timetable_text(\"\"\"\n",
    "\n",
    "\"\"\")"
   ]
  },
  {
   "cell_type": "code",
   "execution_count": null,
   "id": "3cc992f1",
   "metadata": {},
   "outputs": [],
   "source": [
    "text_草64_浅草雷門南 = clean_raw_timetable_text(\"\"\"\n",
    "\n",
    "\"\"\")"
   ]
  },
  {
   "cell_type": "code",
   "execution_count": null,
   "id": "35613ed5",
   "metadata": {},
   "outputs": [],
   "source": [
    "text_都02_大塚駅前 = clean_raw_timetable_text(\"\"\"\n",
    "\n",
    "\"\"\")"
   ]
  },
  {
   "cell_type": "code",
   "execution_count": null,
   "id": "a971ebab",
   "metadata": {},
   "outputs": [],
   "source": [
    "text_都02_錦糸町駅前 = clean_raw_timetable_text(\"\"\"\n",
    "\n",
    "\"\"\")"
   ]
  },
  {
   "cell_type": "code",
   "execution_count": null,
   "id": "010079bf",
   "metadata": {},
   "outputs": [],
   "source": [
    "text_都07_錦糸町駅前 = clean_raw_timetable_text(\"\"\"\n",
    "\n",
    "\"\"\")"
   ]
  },
  {
   "cell_type": "code",
   "execution_count": null,
   "id": "b428d7b0",
   "metadata": {},
   "outputs": [],
   "source": [
    "text_都07_門前仲町 = clean_raw_timetable_text(\"\"\"\n",
    "\n",
    "\"\"\")"
   ]
  },
  {
   "cell_type": "code",
   "execution_count": null,
   "id": "7e5c68fa",
   "metadata": {},
   "outputs": [],
   "source": [
    "text_都08_日暮里駅前 = clean_raw_timetable_text(\"\"\"\n",
    "\n",
    "\"\"\")"
   ]
  },
  {
   "cell_type": "code",
   "execution_count": null,
   "id": "b09ee9d9",
   "metadata": {},
   "outputs": [],
   "source": [
    "text_都08_錦糸町駅前 = clean_raw_timetable_text(\"\"\"\n",
    "\n",
    "\"\"\")"
   ]
  },
  {
   "cell_type": "code",
   "execution_count": null,
   "id": "6465a76b",
   "metadata": {},
   "outputs": [],
   "source": [
    "text_里22_日暮里駅前 = clean_raw_timetable_text(\"\"\"\n",
    "\n",
    "\"\"\")"
   ]
  },
  {
   "cell_type": "code",
   "execution_count": null,
   "id": "85259922",
   "metadata": {},
   "outputs": [],
   "source": [
    "text_里22_亀戸駅前 = clean_raw_timetable_text(\"\"\"\n",
    "\n",
    "\"\"\")"
   ]
  },
  {
   "cell_type": "code",
   "execution_count": null,
   "id": "637fa188",
   "metadata": {},
   "outputs": [],
   "source": [
    "text_錦13_晴海埠頭 = clean_raw_timetable_text(\"\"\"\n",
    "\n",
    "\"\"\")"
   ]
  },
  {
   "cell_type": "code",
   "execution_count": null,
   "id": "e52e8b75",
   "metadata": {},
   "outputs": [],
   "source": [
    "text_錦13_錦糸町駅前 = clean_raw_timetable_text(\"\"\"\n",
    "\n",
    "\"\"\")"
   ]
  },
  {
   "cell_type": "code",
   "execution_count": null,
   "id": "87fd1bfa",
   "metadata": {},
   "outputs": [],
   "source": [
    "text_錦18_錦糸町駅前 = clean_raw_timetable_text(\"\"\"\n",
    "\n",
    "\"\"\")"
   ]
  },
  {
   "cell_type": "code",
   "execution_count": null,
   "id": "12f66368",
   "metadata": {},
   "outputs": [],
   "source": [
    "text_錦18_国際展示場駅前 = clean_raw_timetable_text(\"\"\"\n",
    "\n",
    "\"\"\")"
   ]
  },
  {
   "cell_type": "code",
   "execution_count": null,
   "id": "6137c242",
   "metadata": {},
   "outputs": [],
   "source": [
    "text_錦22_臨海車庫 = clean_raw_timetable_text(\"\"\"\n",
    "\n",
    "\"\"\")"
   ]
  },
  {
   "cell_type": "code",
   "execution_count": null,
   "id": "5e22ee13",
   "metadata": {},
   "outputs": [],
   "source": [
    "text_錦22_錦糸町駅前 = clean_raw_timetable_text(\"\"\"\n",
    "\n",
    "\"\"\")"
   ]
  },
  {
   "cell_type": "code",
   "execution_count": null,
   "id": "126f5185",
   "metadata": {},
   "outputs": [],
   "source": [
    "text_錦25_葛西駅前 = clean_raw_timetable_text(\"\"\"\n",
    "\n",
    "\"\"\")"
   ]
  },
  {
   "cell_type": "code",
   "execution_count": null,
   "id": "45cb25cc",
   "metadata": {},
   "outputs": [],
   "source": [
    "text_錦25_錦糸町駅前 = clean_raw_timetable_text(\"\"\"\n",
    "\n",
    "\"\"\")"
   ]
  },
  {
   "cell_type": "code",
   "execution_count": null,
   "id": "14294a58",
   "metadata": {},
   "outputs": [],
   "source": [
    "text_錦27_小岩駅前 = clean_raw_timetable_text(\"\"\"\n",
    "\n",
    "\"\"\")"
   ]
  },
  {
   "cell_type": "code",
   "execution_count": null,
   "id": "a11c2e4e",
   "metadata": {},
   "outputs": [],
   "source": [
    "text_錦27_両国駅前 = clean_raw_timetable_text(\"\"\"\n",
    "\n",
    "\"\"\")"
   ]
  },
  {
   "cell_type": "code",
   "execution_count": null,
   "id": "9848ae53",
   "metadata": {},
   "outputs": [],
   "source": [
    "text_錦27_3_小岩駅前 = clean_raw_timetable_text(\"\"\"\n",
    "\n",
    "\"\"\")"
   ]
  },
  {
   "cell_type": "code",
   "execution_count": null,
   "id": "69d08085",
   "metadata": {},
   "outputs": [],
   "source": [
    "text_錦27_3_錦糸町駅前 = clean_raw_timetable_text(\"\"\"\n",
    "\n",
    "\"\"\")"
   ]
  },
  {
   "cell_type": "code",
   "execution_count": null,
   "id": "5f5e3af2",
   "metadata": {},
   "outputs": [],
   "source": [
    "text_錦28_東大島駅前 = clean_raw_timetable_text(\"\"\"\n",
    "\n",
    "\"\"\")"
   ]
  },
  {
   "cell_type": "code",
   "execution_count": null,
   "id": "c22a59d1",
   "metadata": {},
   "outputs": [],
   "source": [
    "text_錦28_錦糸町駅前 = clean_raw_timetable_text(\"\"\"\n",
    "\n",
    "\"\"\")"
   ]
  },
  {
   "cell_type": "code",
   "execution_count": null,
   "id": "20d34ceb",
   "metadata": {},
   "outputs": [],
   "source": [
    "text_錦37_青戸車庫前 = clean_raw_timetable_text(\"\"\"\n",
    "\n",
    "\"\"\")"
   ]
  },
  {
   "cell_type": "code",
   "execution_count": null,
   "id": "90112547",
   "metadata": {},
   "outputs": [],
   "source": [
    "text_錦37_錦糸町駅前 = clean_raw_timetable_text(\"\"\"\n",
    "\n",
    "\"\"\")"
   ]
  },
  {
   "cell_type": "code",
   "execution_count": null,
   "id": "15ad6110",
   "metadata": {},
   "outputs": [],
   "source": [
    "text_錦40_南千住駅東口 = clean_raw_timetable_text(\"\"\"\n",
    "\n",
    "\"\"\")"
   ]
  },
  {
   "cell_type": "code",
   "execution_count": null,
   "id": "93aefe9b",
   "metadata": {},
   "outputs": [],
   "source": [
    "text_錦40_錦糸町駅前 = clean_raw_timetable_text(\"\"\"\n",
    "\n",
    "\"\"\")"
   ]
  },
  {
   "cell_type": "code",
   "execution_count": null,
   "id": "9bf2fad4",
   "metadata": {},
   "outputs": [],
   "source": [
    "text_門33_豊海水産埠頭 = clean_raw_timetable_text(\"\"\"\n",
    "\n",
    "\"\"\")"
   ]
  },
  {
   "cell_type": "code",
   "execution_count": null,
   "id": "c5ebc5c3",
   "metadata": {},
   "outputs": [],
   "source": [
    "text_門33_亀戸駅前 = clean_raw_timetable_text(\"\"\"\n",
    "\n",
    "\"\"\")"
   ]
  },
  {
   "cell_type": "code",
   "execution_count": 1,
   "id": "22327910",
   "metadata": {},
   "outputs": [],
   "source": []
  },
  {
   "cell_type": "code",
   "execution_count": 7,
   "id": "1caf133a-6c66-488d-bc6c-65f17fe8dcb3",
   "metadata": {},
   "outputs": [],
   "source": [
    "# --- 関数定義：時刻表処理と集計 ---\n",
    "from datetime import datetime, timedelta\n",
    "import pandas as pd\n",
    "\n",
    "def parse_starred_time_text(text):\n",
    "    lines = text.strip().splitlines()\n",
    "    current_hour = None\n",
    "    times = []\n",
    "    for line in lines:\n",
    "        line = line.strip()\n",
    "        if not line:\n",
    "            continue\n",
    "        if line.startswith(\"*\"):\n",
    "            part = ''.join(filter(str.isdigit, line))\n",
    "            if current_hour and part:\n",
    "                times.append(f\"{current_hour}:{part.zfill(2)}\")\n",
    "        elif line.isdigit():\n",
    "            current_hour = line.zfill(2)\n",
    "    return [datetime.strptime(t, \"%H:%M\").time() for t in times]\n",
    "\n",
    "def make_time_bins(start=\"06:00\", end=\"23:59\"):\n",
    "    bins, labels = [], []\n",
    "    start_dt = datetime.strptime(start, \"%H:%M\")\n",
    "    end_dt = datetime.strptime(end, \"%H:%M\")\n",
    "    while start_dt < end_dt:\n",
    "        bin_start = start_dt.time()\n",
    "        bin_end = (start_dt + timedelta(minutes=14)).time()\n",
    "        label = f\"{bin_start.strftime('%H:%M')}-{bin_end.strftime('%H:%M')}\"\n",
    "        bins.append((bin_start, bin_end))\n",
    "        labels.append(label)\n",
    "        start_dt += timedelta(minutes=15)\n",
    "    return bins, labels\n",
    "\n",
    "def count_by_time_bins(time_list, bins, labels):\n",
    "    count_dict = {label: 0 for label in labels}\n",
    "    for t in time_list:\n",
    "        for (bin_start, bin_end), label in zip(bins, labels):\n",
    "            if bin_start <= t <= bin_end:\n",
    "                count_dict[label] += 1\n",
    "                break\n",
    "    return count_dict\n",
    "\n",
    "def make_frequency_df(direction_dict, route, station):\n",
    "    bins, labels = make_time_bins()\n",
    "    data_rows = []\n",
    "    for dest, text in direction_dict.items():\n",
    "        parsed_times = parse_starred_time_text(text)\n",
    "        counts = count_by_time_bins(parsed_times, bins, labels)\n",
    "        data_rows.append(list(counts.values()))\n",
    "    index = pd.MultiIndex.from_product([[route], [station], list(direction_dict.keys())],\n",
    "                                       names=[\"路線\", \"基準駅\", \"行き先\"])\n",
    "    df = pd.DataFrame(data_rows, index=index, columns=labels)\n",
    "    return df"
   ]
  },
  {
   "cell_type": "code",
   "execution_count": 12,
   "id": "bd4a9224-f3ed-495d-8add-5589c0ca5b15",
   "metadata": {},
   "outputs": [],
   "source": [
    "# # --- 各地点・路線・行き先のデータを辞書で定義 ---\n",
    "all_data = {\n",
    "     (\"上23\", \"押上駅\"): {\n",
    "         \"上野松坂屋前\": text_上23_上野松坂屋前,\n",
    "         \"平井駅前\": text_上23_平井駅前,\n",
    "     },\n",
    "     (\"草24\", \"横川橋\"): {\n",
    "         \"東大島駅前\": text_草24_東大島駅前,\n",
    "         \"浅草寿町\": text_草24_浅草寿町,\n",
    "     },\n",
    "#     (\"草39\", \"東向島広小路\"): {\n",
    "#         \"金町駅前\": text_草39_金町駅前,\n",
    "#         \"上野松坂屋前\": text_草39_上野松坂屋前,\n",
    "#     },\n",
    "#     (\"錦11\", \"錦糸町駅前\"): {\n",
    "#         \"亀戸駅前\": text_錦11_亀戸駅前,\n",
    "#         \"築地駅前\": text_錦11_築地駅前,\n",
    "#     },\n",
    "#     (\"上26\", \"横川三丁目\"): {\n",
    "#         \"亀戸駅前\": text_上26_亀戸駅前,\n",
    "#         \"上野公園\": text_上26_上野公園,\n",
    "#     },\n",
    "#     (\"上46\", \"南千住八丁目\"): {\n",
    "#         \"南千住駅東口\": text_上46_南千住駅東口,\n",
    "#         \"上野松坂屋前\": text_上46_上野松坂屋前,\n",
    "#     },\n",
    "#     (\"両28\", \"緑三丁目\"): {\n",
    "#         \"両国駅前\": text_両28_両国駅前,\n",
    "#         \"葛西橋\": text_両28_葛西橋,\n",
    "#     },\n",
    "#     (\"亀23\", \"亀戸駅通り\"): {\n",
    "#         \"江東高齢者医療センター\": text_亀23_江東高齢者医療センター,\n",
    "#     },\n",
    "#     (\"亀24\", \"亀戸駅通り\"): {\n",
    "#         \"葛西橋\": text_亀24_葛西橋,\n",
    "#         \"亀戸駅前\": text_亀24_亀戸駅前,\n",
    "#     },\n",
    "#     (\"亀29\", \"亀戸駅通り\"): {\n",
    "#         \"なぎさニュータウン\": text_亀29_なぎさニュータウン,\n",
    "#         \"亀戸駅前\": text_亀29_亀戸駅前,\n",
    "#     },\n",
    "#     (\"平23\", \"平井駅南口\"): {\n",
    "#         \"平井駅前\": text_平23_平井駅前,\n",
    "#     },\n",
    "#     (\"平23\", \"平井駅前\"): {\n",
    "#         \"葛西駅前\": text_平23_葛西駅前,\n",
    "#     },\n",
    "#     (\"平28\", \"平井駅南口\"): {\n",
    "#         \"平井駅前\": text_平28_平井駅前,\n",
    "#     },\n",
    "#     (\"平28\", \"平井五丁目\"): {\n",
    "#         \"東大島駅前\": text_平28_東大島駅前,\n",
    "#     },\n",
    "#     (\"新小51\", \"堀切菖蒲園駅\"): {\n",
    "#         \"綾瀬駅\": text_新小51_綾瀬駅,\n",
    "#         \"新小岩駅\": text_新小51_新小岩駅,\n",
    "#     },\n",
    "#     (\"新小52\", \"水道橋\"): {\n",
    "#         \"市川駅\": text_新小52_市川駅,\n",
    "#         \"新小岩駅東北広場\": text_新小52_新小岩駅東北広場,\n",
    "#     },\n",
    "#     (\"新小52乙\", \"水道橋\"): {\n",
    "#         \"新小岩駅東北広場\": text_新小52乙_新小岩駅東北広場,\n",
    "#     },\n",
    "#     (\"東22\", \"毛利二丁目\"): {\n",
    "#         \"東京駅丸の内北口\": text_東22_東京駅丸の内北口,\n",
    "#         \"錦糸町駅前\": text_東22_錦糸町駅前,\n",
    "#     },\n",
    "#     (\"東42-1\", \"駒形橋\"): {\n",
    "#         \"南千住駅西口\": text_東42_1_南千住駅西口,\n",
    "#         \"東京駅八重洲口\": text_東42_1_東京駅八重洲口,\n",
    "#     },\n",
    "#     (\"東42-2\", \"駒形橋\"): {\n",
    "#         \"南千住駅西口\": text_東42_2_南千住駅西口,\n",
    "#         \"東神田\": text_東42_2_東神田,\n",
    "#     },\n",
    "#     (\"東42-3\", \"花川戸\"): {\n",
    "#         \"南千住車庫前\": text_東42_3_南千住車庫前,\n",
    "#         \"浅草雷門\": text_東42_3_浅草雷門,\n",
    "#     },\n",
    "#     (\"業10\", \"石原三丁目\"): {\n",
    "#         \"新橋\": text_業10_新橋,\n",
    "#         \"とうきょうスカイツリー駅前\": text_業10_とうきょうスカイツリー駅前,\n",
    "#     },\n",
    "#     (\"秋26\", \"浜町中の橋\"): {\n",
    "#         \"葛西駅前\": text_秋26_葛西駅前,\n",
    "#         \"秋葉原駅前\": text_秋26_秋葉原駅前,\n",
    "#     },\n",
    "#     (\"草41\", \"浅草寿町\"): {\n",
    "#         \"足立梅田町\": text_草41_足立梅田町,\n",
    "#     },\n",
    "#     (\"草43\", \"浅草寿町\"): {\n",
    "#         \"足立区役所\": text_草43_足立区役所,\n",
    "#         \"浅草雷門\": text_草43_浅草雷門,\n",
    "#     },\n",
    "#     (\"草63\", \"浅草雷門\"): {\n",
    "#         \"池袋駅東口\": text_草63_池袋駅東口,\n",
    "#     },\n",
    "#     (\"草64\", \"二天門\"): {\n",
    "#         \"池袋駅東口\": text_草64_池袋駅東口,\n",
    "#         \"浅草雷門南\": text_草64_浅草雷門南,\n",
    "#     },\n",
    "#     (\"都02\", \"石原四丁目\"): {\n",
    "#         \"大塚駅前\": text_都02_大塚駅前,\n",
    "#         \"錦糸町駅前\": text_都02_錦糸町駅前,\n",
    "#     },\n",
    "#     (\"都07\", \"亀戸一丁目\"): {\n",
    "#         \"錦糸町駅前\": text_都07_錦糸町駅前,\n",
    "#         \"門前仲町\": text_都07_門前仲町,\n",
    "#     },\n",
    "#     (\"都08\", \"本所吾妻橋\"): {\n",
    "#         \"日暮里駅前\": text_都08_日暮里駅前,\n",
    "#         \"錦糸町駅前\": text_都08_錦糸町駅前,\n",
    "#     },\n",
    "#     (\"里22\", \"橘通り\"): {\n",
    "#         \"日暮里駅前\": text_里22_日暮里駅前,\n",
    "#         \"亀戸駅前\": text_里22_亀戸駅前,\n",
    "#     },\n",
    "#     (\"錦13\", \"猿江一丁目\"): {\n",
    "#         \"晴海埠頭\": text_錦13_晴海埠頭,\n",
    "#         \"錦糸町駅前\": text_錦13_錦糸町駅前,\n",
    "#     },\n",
    "#     (\"錦18\", \"亀戸一丁目\"): {\n",
    "#         \"錦糸町駅前\": text_錦18_錦糸町駅前,\n",
    "#         \"国際展示場駅前\": text_錦18_国際展示場駅前,\n",
    "#     },\n",
    "#     (\"錦22\", \"毛利二丁目\"): {\n",
    "#         \"臨海車庫\": text_錦22_臨海車庫,\n",
    "#         \"錦糸町駅前\": text_錦22_錦糸町駅前,\n",
    "#     },\n",
    "#     (\"錦25\", \"亀戸一丁目\"): {\n",
    "#         \"葛西駅前\": text_錦25_葛西駅前,\n",
    "#         \"錦糸町駅前\": text_錦25_錦糸町駅前,\n",
    "#     },\n",
    "#     (\"錦27\", \"緑一丁目\"): {\n",
    "#         \"小岩駅前\": text_錦27_小岩駅前,\n",
    "#         \"両国駅前\": text_錦27_両国駅前,\n",
    "#     },\n",
    "#     (\"錦27-3\", \"亀戸一丁目\"): {\n",
    "#         \"小岩駅前\": text_錦27_3_小岩駅前,\n",
    "#         \"錦糸町駅前\": text_錦27_3_錦糸町駅前,\n",
    "#     },\n",
    "#     (\"錦28\", \"毛利二丁目\"): {\n",
    "#         \"東大島駅前\": text_錦28_東大島駅前,\n",
    "#         \"錦糸町駅前\": text_錦28_錦糸町駅前,\n",
    "#     },\n",
    "#     (\"錦37\", \"文花三丁目\"): {\n",
    "#         \"青戸車庫前\": text_錦37_青戸車庫前,\n",
    "#         \"錦糸町駅前\": text_錦37_錦糸町駅前,\n",
    "#     },\n",
    "#     (\"錦40\", \"押上二丁目\"): {\n",
    "#         \"南千住駅東口\": text_錦40_南千住駅東口,\n",
    "#         \"錦糸町駅前\": text_錦40_錦糸町駅前,\n",
    "#     },\n",
    "#     (\"門33\", \"本所吾妻橋\"): {\n",
    "#         \"豊海水産埠頭\": text_門33_豊海水産埠頭,\n",
    "#         \"亀戸駅前\": text_門33_亀戸駅前,\n",
    "#     },\n",
    " }"
   ]
  },
  {
   "cell_type": "code",
   "execution_count": 13,
   "id": "b141edbe-d7c5-4230-ac68-7ed04f51fe72",
   "metadata": {},
   "outputs": [],
   "source": [
    "# --- 各組み合わせごとに DataFrame を生成し、まとめて結合 ---\n",
    "all_dfs = []\n",
    "for (route, station), direction_dict in all_data.items():\n",
    "    df = make_frequency_df(direction_dict, route=route, station=station)\n",
    "    all_dfs.append(df)\n",
    "\n",
    "# --- 結合して最終的な DataFrame を作成 ---\n",
    "final_df = pd.concat(all_dfs)"
   ]
  },
  {
   "cell_type": "code",
   "execution_count": 14,
   "id": "ae4ddfec-57a5-4abc-80cb-2485b90ff376",
   "metadata": {},
   "outputs": [],
   "source": [
    "# --- Excelファイルとして保存 ---\n",
    "final_df.to_csv(\"bus_all.csv\")"
   ]
  },
  {
   "cell_type": "code",
   "execution_count": null,
   "id": "626e5ae5-e3ce-4d8b-9c1c-a16f2dc00046",
   "metadata": {},
   "outputs": [],
   "source": []
  }
 ],
 "metadata": {
  "kernelspec": {
   "display_name": "Python 3 (ipykernel)",
   "language": "python",
   "name": "python3"
  },
  "language_info": {
   "codemirror_mode": {
    "name": "ipython",
    "version": 3
   },
   "file_extension": ".py",
   "mimetype": "text/x-python",
   "name": "python",
   "nbconvert_exporter": "python",
   "pygments_lexer": "ipython3",
   "version": "3.12.9"
  }
 },
 "nbformat": 4,
 "nbformat_minor": 5
}
